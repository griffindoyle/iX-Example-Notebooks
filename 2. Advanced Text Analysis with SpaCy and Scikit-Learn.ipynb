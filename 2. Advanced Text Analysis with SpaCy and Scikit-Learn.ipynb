{
 "cells": [
  {
   "cell_type": "markdown",
   "metadata": {
    "slideshow": {
     "slide_type": "slide"
    }
   },
   "source": [
    "<img src=\"./media/Logo Element-01.jpg\"><h1 align=\"center\">Advanced Text Analysis with SpaCy and Scikit-Learn</h1>"
   ]
  },
  {
   "cell_type": "markdown",
   "metadata": {
    "slideshow": {
     "slide_type": "fragment"
    }
   },
   "source": [
    "This notebook was originally prepared for the workshop [Advanced Text Analysis with SpaCy and Scikit-Learn](http://dhweek.nycdh.org/event/advanced-text-analysis-with-spacy-and-scikit-learn/), presented as part of NYCDH Week 2017, by [Jonathan Reeve](http://jonreeve.com) ([Group for Experimental Methods in the Humanities](http://xpmethod.plaintext.in/), Columbia University). All code here is licensed under the MIT License.  \n",
    "\n",
    "Here, we try out features of the SpaCy library for natural language processing. We also do some statistical analysis using from the scikit-learn library. "
   ]
  },
  {
   "cell_type": "code",
   "execution_count": 7,
   "metadata": {
    "collapsed": true,
    "slideshow": {
     "slide_type": "slide"
    }
   },
   "outputs": [],
   "source": [
    "import spacy\n",
    "import pandas as pd\n",
    "import numpy as np\n",
    "from collections import Counter\n",
    "from glob import glob\n",
    "import matplotlib.pyplot as plt\n",
    "from sklearn.decomposition import TruncatedSVD\n",
    "from sklearn.feature_extraction.text import TfidfVectorizer\n",
    "\n",
    "# Display plots in this notebook, instead of externally. \n",
    "from pylab import rcParams\n",
    "rcParams['figure.figsize'] = 16, 8\n",
    "%matplotlib inline\n",
    "\n",
    "# The following are optional dependencies. \n",
    "# Feel free to comment these out. \n",
    "# Sent2tree uses the sent2tree.py module in this repository. \n",
    "#from sent2tree import sentenceTree\n",
    "# import ete3 \n",
    "import seaborn"
   ]
  },
  {
   "cell_type": "code",
   "execution_count": 8,
   "metadata": {
    "collapsed": true,
    "slideshow": {
     "slide_type": "subslide"
    }
   },
   "outputs": [],
   "source": [
    "# This command might take a little while. \n",
    "nlp = spacy.load('en')"
   ]
  },
  {
   "cell_type": "markdown",
   "metadata": {
    "slideshow": {
     "slide_type": "fragment"
    }
   },
   "source": [
    "The sample data is the script of the 1975 film _Monty Python and the Holy Grail_, taken from the NLTK Book corpus, and the Project Gutenberg edition of Jane Austen's novel _Pride and Prejudice_. "
   ]
  },
  {
   "cell_type": "code",
   "execution_count": 9,
   "metadata": {
    "collapsed": true,
    "slideshow": {
     "slide_type": "fragment"
    }
   },
   "outputs": [],
   "source": [
    "grail_raw = open('./input/grail.txt').read()\n",
    "pride_raw = open('./input/pride.txt').read()"
   ]
  },
  {
   "cell_type": "code",
   "execution_count": 10,
   "metadata": {
    "collapsed": true,
    "slideshow": {
     "slide_type": "fragment"
    }
   },
   "outputs": [],
   "source": [
    "# Parse the texts. These commands might take a little while. \n",
    "grail = nlp(grail_raw)\n",
    "pride = nlp(pride_raw)"
   ]
  },
  {
   "cell_type": "markdown",
   "metadata": {
    "slideshow": {
     "slide_type": "slide"
    }
   },
   "source": [
    "# Exploring the Document\n",
    "\n",
    "Each SpaCy document is already tokenized into words, which are accessible by iterating over the document: "
   ]
  },
  {
   "cell_type": "code",
   "execution_count": 11,
   "metadata": {
    "slideshow": {
     "slide_type": "fragment"
    }
   },
   "outputs": [
    {
     "data": {
      "text/plain": [
       "﻿It"
      ]
     },
     "execution_count": 11,
     "metadata": {},
     "output_type": "execute_result"
    }
   ],
   "source": [
    "pride[0]"
   ]
  },
  {
   "cell_type": "code",
   "execution_count": 12,
   "metadata": {
    "slideshow": {
     "slide_type": "fragment"
    }
   },
   "outputs": [
    {
     "data": {
      "text/plain": [
       "﻿It is a truth universally acknowledged, that a single"
      ]
     },
     "execution_count": 12,
     "metadata": {},
     "output_type": "execute_result"
    }
   ],
   "source": [
    "pride[:10]"
   ]
  },
  {
   "cell_type": "markdown",
   "metadata": {
    "slideshow": {
     "slide_type": "fragment"
    }
   },
   "source": [
    "You can also iterate over the sentences. `doc.sents` is a generator object, so we can use `next()`: "
   ]
  },
  {
   "cell_type": "code",
   "execution_count": 13,
   "metadata": {
    "slideshow": {
     "slide_type": "fragment"
    }
   },
   "outputs": [
    {
     "data": {
      "text/plain": [
       "﻿It is a truth universally acknowledged, that a single man in possession\n",
       "of a good fortune, must be in want of a wife.\n"
      ]
     },
     "execution_count": 13,
     "metadata": {},
     "output_type": "execute_result"
    }
   ],
   "source": [
    "next(pride.sents)"
   ]
  },
  {
   "cell_type": "markdown",
   "metadata": {
    "slideshow": {
     "slide_type": "subslide"
    }
   },
   "source": [
    "<h2>Or you can force it into a list, and then do things with it:</h2>"
   ]
  },
  {
   "cell_type": "code",
   "execution_count": 11,
   "metadata": {
    "scrolled": false,
    "slideshow": {
     "slide_type": "fragment"
    }
   },
   "outputs": [
    {
     "data": {
      "text/plain": [
       "Darcy, as well as Elizabeth, really loved them; and they were both ever\n",
       "sensible of the warmest gratitude towards the persons who, by bringing\n",
       "her into Derbyshire, had been the means of uniting them."
      ]
     },
     "execution_count": 11,
     "metadata": {},
     "output_type": "execute_result"
    }
   ],
   "source": [
    "prideSents = list(pride.sents)\n",
    "prideSents[-1]"
   ]
  },
  {
   "cell_type": "code",
   "execution_count": 12,
   "metadata": {
    "slideshow": {
     "slide_type": "fragment"
    }
   },
   "outputs": [
    {
     "data": {
      "text/plain": [
       "[crash] \n",
       "CAMERAMAN: Christ!"
      ]
     },
     "execution_count": 12,
     "metadata": {},
     "output_type": "execute_result"
    }
   ],
   "source": [
    "list(grail.sents)[-1]"
   ]
  },
  {
   "cell_type": "markdown",
   "metadata": {
    "slideshow": {
     "slide_type": "subslide"
    }
   },
   "source": [
    "<h2>For example, let's find the longest sentence(s) in _Pride and Prejudice_:</h2>"
   ]
  },
  {
   "cell_type": "code",
   "execution_count": 13,
   "metadata": {
    "slideshow": {
     "slide_type": "fragment"
    }
   },
   "outputs": [
    {
     "data": {
      "text/plain": [
       "[Every lingering struggle in his favour grew fainter\n",
       " and fainter; and in farther justification of Mr. Darcy, she could not\n",
       " but allow that Mr. Bingley, when questioned by Jane, had long ago\n",
       " asserted his blamelessness in the affair; that proud and repulsive as\n",
       " were his manners, she had never, in the whole course of their\n",
       " acquaintance--an acquaintance which had latterly brought them much\n",
       " together, and given her a sort of intimacy with his ways--seen anything\n",
       " that betrayed him to be unprincipled or unjust--anything that spoke him\n",
       " of irreligious or immoral habits; that among his own connections he was\n",
       " esteemed and valued--that even Wickham had allowed him merit as a\n",
       " brother, and that she had often heard him speak so affectionately of his\n",
       " sister as to prove him capable of _some_ amiable feeling; that had his\n",
       " actions been what Mr. Wickham represented them, so gross a violation of\n",
       " everything right could hardly have been concealed from the world; and\n",
       " that friendship between a person capable of it, and such an amiable man\n",
       " as Mr. Bingley, was incomprehensible.\n",
       " ]"
      ]
     },
     "execution_count": 13,
     "metadata": {},
     "output_type": "execute_result"
    }
   ],
   "source": [
    "prideSentenceLengths = [len(sent) for sent in prideSents]\n",
    "[sent for sent in prideSents if len(sent) == max(prideSentenceLengths)]"
   ]
  },
  {
   "cell_type": "markdown",
   "metadata": {
    "slideshow": {
     "slide_type": "slide"
    }
   },
   "source": [
    "## Exploring Words\n",
    "\n",
    "Each word has a crazy number of properties: "
   ]
  },
  {
   "cell_type": "code",
   "execution_count": 22,
   "metadata": {
    "slideshow": {
     "slide_type": "fragment"
    }
   },
   "outputs": [
    {
     "data": {
      "text/plain": [
       "True"
      ]
     },
     "execution_count": 22,
     "metadata": {},
     "output_type": "execute_result"
    }
   ],
   "source": [
    "pride[4]"
   ]
  },
  {
   "cell_type": "code",
   "execution_count": 15,
   "metadata": {
    "slideshow": {
     "slide_type": "subslide"
    }
   },
   "outputs": [
    {
     "data": {
      "text/plain": [
       "['ancestors',\n",
       " 'check_flag',\n",
       " 'children',\n",
       " 'cluster',\n",
       " 'conjuncts',\n",
       " 'dep',\n",
       " 'dep_',\n",
       " 'doc',\n",
       " 'ent_id',\n",
       " 'ent_id_',\n",
       " 'ent_iob',\n",
       " 'ent_iob_',\n",
       " 'ent_type',\n",
       " 'ent_type_',\n",
       " 'has_repvec',\n",
       " 'has_vector',\n",
       " 'head',\n",
       " 'i',\n",
       " 'idx',\n",
       " 'is_alpha',\n",
       " 'is_ancestor',\n",
       " 'is_ancestor_of',\n",
       " 'is_ascii',\n",
       " 'is_bracket',\n",
       " 'is_digit',\n",
       " 'is_left_punct',\n",
       " 'is_lower',\n",
       " 'is_oov',\n",
       " 'is_punct',\n",
       " 'is_quote',\n",
       " 'is_right_punct',\n",
       " 'is_space',\n",
       " 'is_stop',\n",
       " 'is_title',\n",
       " 'lang',\n",
       " 'lang_',\n",
       " 'left_edge',\n",
       " 'lefts',\n",
       " 'lemma',\n",
       " 'lemma_',\n",
       " 'lex_id',\n",
       " 'like_email',\n",
       " 'like_num',\n",
       " 'like_url',\n",
       " 'lower',\n",
       " 'lower_',\n",
       " 'n_lefts',\n",
       " 'n_rights',\n",
       " 'nbor',\n",
       " 'norm',\n",
       " 'norm_',\n",
       " 'orth',\n",
       " 'orth_',\n",
       " 'pos',\n",
       " 'pos_',\n",
       " 'prefix',\n",
       " 'prefix_',\n",
       " 'prob',\n",
       " 'rank',\n",
       " 'repvec',\n",
       " 'right_edge',\n",
       " 'rights',\n",
       " 'sentiment',\n",
       " 'shape',\n",
       " 'shape_',\n",
       " 'similarity',\n",
       " 'string',\n",
       " 'subtree',\n",
       " 'suffix',\n",
       " 'suffix_',\n",
       " 'tag',\n",
       " 'tag_',\n",
       " 'text',\n",
       " 'text_with_ws',\n",
       " 'vector',\n",
       " 'vector_norm',\n",
       " 'vocab',\n",
       " 'whitespace_']"
      ]
     },
     "execution_count": 15,
     "metadata": {},
     "output_type": "execute_result"
    }
   ],
   "source": [
    "[prop for prop in dir(pride[4]) if not prop.startswith('_')]"
   ]
  },
  {
   "cell_type": "markdown",
   "metadata": {
    "slideshow": {
     "slide_type": "slide"
    }
   },
   "source": [
    "<h2>Using just the indices (`.i`), we can make a lexical dispersion plot for the occurrences of that word in the novel.</h2>"
   ]
  },
  {
   "cell_type": "code",
   "execution_count": 16,
   "metadata": {
    "slideshow": {
     "slide_type": "fragment"
    }
   },
   "outputs": [
    {
     "data": {
      "text/plain": [
       "4"
      ]
     },
     "execution_count": 16,
     "metadata": {},
     "output_type": "execute_result"
    }
   ],
   "source": [
    "pride[4].i"
   ]
  },
  {
   "cell_type": "code",
   "execution_count": 14,
   "metadata": {
    "collapsed": true,
    "slideshow": {
     "slide_type": "fragment"
    }
   },
   "outputs": [],
   "source": [
    "def locations(needle, haystack): \n",
    "    \"\"\" \n",
    "    Make a list of locations, bin those into a histogram, \n",
    "    and finally put it into a Pandas Series object so that we\n",
    "    can later make it into a DataFrame. \n",
    "    \"\"\"\n",
    "    return pd.Series(np.histogram(\n",
    "        [word.i for word in haystack \n",
    "         if word.text.lower() == needle], bins=50)[0])"
   ]
  },
  {
   "cell_type": "code",
   "execution_count": 15,
   "metadata": {
    "slideshow": {
     "slide_type": "subslide"
    }
   },
   "outputs": [
    {
     "data": {
      "text/plain": [
       "array([<matplotlib.axes._subplots.AxesSubplot object at 0x7f6383d67208>,\n",
       "       <matplotlib.axes._subplots.AxesSubplot object at 0x7f638925e1d0>,\n",
       "       <matplotlib.axes._subplots.AxesSubplot object at 0x7f638924dcc0>,\n",
       "       <matplotlib.axes._subplots.AxesSubplot object at 0x7f63891a01d0>], dtype=object)"
      ]
     },
     "execution_count": 15,
     "metadata": {},
     "output_type": "execute_result"
    },
    {
     "data": {
      "image/png": "[encoded data removed]",
      "text/plain": [
       "<matplotlib.figure.Figure at 0x7f638971a240>"
      ]
     },
     "metadata": {},
     "output_type": "display_data"
    }
   ],
   "source": [
    "rcParams['figure.figsize'] = 16, 8\n",
    "\n",
    "pd.DataFrame(\n",
    "    {name: locations(name.lower(), pride) \n",
    "     for name in ['Elizabeth', 'Darcy', 'Jane', 'Bennet']}\n",
    ").plot(subplots=True)"
   ]
  },
  {
   "cell_type": "markdown",
   "metadata": {
    "slideshow": {
     "slide_type": "slide"
    }
   },
   "source": [
    "# Exploring Named Entities\n",
    "\n",
    "Named entities can be accessed through `doc.ents`. Let's find all the types of named entities from _Monty Python and the Holy Grail_: "
   ]
  },
  {
   "cell_type": "code",
   "execution_count": 19,
   "metadata": {
    "slideshow": {
     "slide_type": "fragment"
    }
   },
   "outputs": [
    {
     "data": {
      "text/plain": [
       "{'CARDINAL',\n",
       " 'DATE',\n",
       " 'EVENT',\n",
       " 'FAC',\n",
       " 'GPE',\n",
       " 'LANGUAGE',\n",
       " 'LAW',\n",
       " 'MONEY',\n",
       " 'NORP',\n",
       " 'ORDINAL',\n",
       " 'ORG',\n",
       " 'PERCENT',\n",
       " 'PERSON',\n",
       " 'PRODUCT',\n",
       " 'QUANTITY',\n",
       " 'TIME',\n",
       " 'WORK_OF_ART'}"
      ]
     },
     "execution_count": 19,
     "metadata": {},
     "output_type": "execute_result"
    }
   ],
   "source": [
    "set([w.label_ for w in grail.ents])"
   ]
  },
  {
   "cell_type": "markdown",
   "metadata": {
    "slideshow": {
     "slide_type": "subslide"
    }
   },
   "source": [
    "<h2>What about those that are works of art?</h2>"
   ]
  },
  {
   "cell_type": "code",
   "execution_count": 20,
   "metadata": {
    "slideshow": {
     "slide_type": "fragment"
    }
   },
   "outputs": [
    {
     "data": {
      "text/plain": [
       "[LAUNCELOT: Look,\n",
       "  Open,\n",
       " Seek you the Bridge of Death,\n",
       " The Knights Who Say 'Ni',\n",
       " FATHER: Camelot,\n",
       " the Holy Hand Grenade,\n",
       " Consult the Book of Armaments,\n",
       " the Holy Pin]"
      ]
     },
     "execution_count": 20,
     "metadata": {},
     "output_type": "execute_result"
    }
   ],
   "source": [
    "[ent for ent in grail.ents if ent.label_ == 'WORK_OF_ART']"
   ]
  },
  {
   "cell_type": "markdown",
   "metadata": {
    "slideshow": {
     "slide_type": "subslide"
    }
   },
   "source": [
    "<h2>Place names?</h2>"
   ]
  },
  {
   "cell_type": "code",
   "execution_count": 21,
   "metadata": {
    "slideshow": {
     "slide_type": "fragment"
    }
   },
   "outputs": [
    {
     "data": {
      "text/plain": [
       "[England,\n",
       " Mercea,\n",
       " Mercea,\n",
       " the--,\n",
       " Divine,\n",
       " Providence,\n",
       " Quiet,\n",
       " Lancelot,\n",
       " Lancelot,\n",
       " Bristol,\n",
       " Camelot,\n",
       " Camelot,\n",
       " England,\n",
       " Thppppt,\n",
       " Launcelot,\n",
       " Galahad,\n",
       " Schools,\n",
       " Ewing,\n",
       " Castle Anthrax,\n",
       " Ni,\n",
       " Britain,\n",
       " here--,\n",
       " Idiom,\n",
       " Camelot,\n",
       " LAUNCELOT,\n",
       " Dramatically,\n",
       " NI,\n",
       " NI,\n",
       " NI,\n",
       " NI,\n",
       " NI,\n",
       " Bedevere,\n",
       " Nador,\n",
       " Spring,\n",
       " Autumn,\n",
       " Caerbannog,\n",
       " Aaaugh,\n",
       " Antioch,\n",
       " Antioch,\n",
       " France,\n",
       " Cornwall,\n",
       " the Bridge of Death,\n",
       " Assyria?,\n",
       " Launcelot,\n",
       " our--]"
      ]
     },
     "execution_count": 21,
     "metadata": {},
     "output_type": "execute_result"
    }
   ],
   "source": [
    "[ent for ent in grail.ents if ent.label_ == 'GPE']"
   ]
  },
  {
   "cell_type": "markdown",
   "metadata": {
    "slideshow": {
     "slide_type": "subslide"
    }
   },
   "source": [
    "<h2>Organizations?</h2>"
   ]
  },
  {
   "cell_type": "code",
   "execution_count": 22,
   "metadata": {
    "slideshow": {
     "slide_type": "fragment"
    }
   },
   "outputs": [
    {
     "data": {
      "text/plain": [
       "{'ARMY OF KNIGHTS',\n",
       " 'ARTHUR',\n",
       " 'Aramaic',\n",
       " 'Arimathea',\n",
       " 'BEDEVERE',\n",
       " 'BLACK',\n",
       " 'Badon Hill',\n",
       " 'Brave',\n",
       " 'Bridge of Death',\n",
       " 'CART',\n",
       " 'CART-MASTER',\n",
       " 'CRAPPER',\n",
       " 'Caerbannog--',\n",
       " 'Camelot',\n",
       " 'Chaste',\n",
       " 'Chicken of',\n",
       " 'Excalibur',\n",
       " 'Farewell',\n",
       " 'GUEST',\n",
       " 'Galahad',\n",
       " 'Grail',\n",
       " 'HISTORIAN',\n",
       " 'Heh',\n",
       " 'Holy Grail',\n",
       " \"I'm-- I'm\",\n",
       " 'I--',\n",
       " 'I-- I--',\n",
       " 'KNIGHT',\n",
       " 'KNIGHTS',\n",
       " 'Knights',\n",
       " 'LAUNCELOT',\n",
       " 'Launcelot',\n",
       " 'MAN',\n",
       " 'MAYNARD',\n",
       " 'MIDGET',\n",
       " 'MINSTREL',\n",
       " 'O Knights',\n",
       " 'O Knights of--',\n",
       " 'Olfin Bedwere of Rheged',\n",
       " 'PRINCESS LUCKY',\n",
       " 'Pie Iesu',\n",
       " 'Princess Lucky',\n",
       " 'Pure',\n",
       " 'SCENE',\n",
       " 'SENTRY',\n",
       " 'SOLDIER',\n",
       " 'Saxons',\n",
       " 'Spring',\n",
       " 'Summer',\n",
       " 'The Black Knight',\n",
       " 'The Bridge of Death',\n",
       " 'The Castle Aaagh',\n",
       " 'The Castle Anthrax',\n",
       " 'The Holy Hand Grenade',\n",
       " 'The Lady of',\n",
       " 'Uther Pendragon',\n",
       " 'cave--',\n",
       " 'the Castle Anthrax',\n",
       " 'the Castle of',\n",
       " 'the Court of Camelot',\n",
       " 'the Gorge of Eternal Peril',\n",
       " 'the Holy Grail',\n",
       " 'the Knights of',\n",
       " 'the Round Table',\n",
       " 'the Tall Tower',\n",
       " 'the Tall Tower of'}"
      ]
     },
     "execution_count": 22,
     "metadata": {},
     "output_type": "execute_result"
    }
   ],
   "source": [
    "set(list([ent.string.strip() for ent in grail.ents if ent.label_ == 'ORG']))"
   ]
  },
  {
   "cell_type": "markdown",
   "metadata": {
    "slideshow": {
     "slide_type": "subslide"
    }
   },
   "source": [
    "<h2>How about groups of people?</h2>"
   ]
  },
  {
   "cell_type": "code",
   "execution_count": 23,
   "metadata": {
    "slideshow": {
     "slide_type": "fragment"
    }
   },
   "outputs": [
    {
     "data": {
      "text/plain": [
       "{'African ',\n",
       " 'Britons',\n",
       " 'English ',\n",
       " 'European ',\n",
       " 'French',\n",
       " 'French ',\n",
       " 'NARRATOR',\n",
       " 'Summer ',\n",
       " 'VILLAGER ',\n",
       " 'Winter',\n",
       " 'Winter '}"
      ]
     },
     "execution_count": 23,
     "metadata": {},
     "output_type": "execute_result"
    }
   ],
   "source": [
    "set([ent.string for ent in grail.ents if ent.label_ == 'NORP'])"
   ]
  },
  {
   "cell_type": "markdown",
   "metadata": {
    "slideshow": {
     "slide_type": "subslide"
    }
   },
   "source": [
    "<h2>\"French\" here refers to French _people_, not the French language. We can verify that by getting all the sentences in which this particular type of entity occurs:</h2>"
   ]
  },
  {
   "cell_type": "code",
   "execution_count": 24,
   "metadata": {
    "slideshow": {
     "slide_type": "fragment"
    }
   },
   "outputs": [
    {
     "data": {
      "text/plain": [
       "[FRENCH GUARD: I'm French!  ,\n",
       " Well, now, uh, Launcelot, Galahad, and I, uh, wait until nightfall, and then leap out of the rabbit, taking the French, uh, by surprise.  ,\n",
       " The ferocity of the French taunting took him completely by surprise, and Arthur became convinced that a new strategy was required if the quest for the Holy Grail were to be brought to a successful conclusion.  ,\n",
       " So, we French fellows outwit you a second time!,\n",
       " So, you think you could out-clever us French folk with your silly knees-bent running about advancing behaviour?!  ,\n",
       " ARTHUR: Stand by for attack! [exciting music] [music stops] [silence] French persons!]"
      ]
     },
     "execution_count": 24,
     "metadata": {},
     "output_type": "execute_result"
    }
   ],
   "source": [
    "frenchPeople = [ent for ent in grail.ents if ent.label_ == 'NORP' and ent.string.strip() == 'French']\n",
    "[ent.sent for ent in frenchPeople]"
   ]
  },
  {
   "cell_type": "markdown",
   "metadata": {
    "slideshow": {
     "slide_type": "slide"
    }
   },
   "source": [
    "<h2>Parts of Speech</h2>\n",
    "\n",
    "<h3>Each word already has a part of speech and a tag associated with it. Here's a list of all the parts of speech in _Pride and Prejudice_:<h3>"
   ]
  },
  {
   "cell_type": "code",
   "execution_count": 25,
   "metadata": {
    "slideshow": {
     "slide_type": "fragment"
    }
   },
   "outputs": [
    {
     "data": {
      "text/plain": [
       "{82: 'ADJ',\n",
       " 83: 'ADP',\n",
       " 84: 'ADV',\n",
       " 87: 'CCONJ',\n",
       " 88: 'DET',\n",
       " 89: 'INTJ',\n",
       " 90: 'NOUN',\n",
       " 91: 'NUM',\n",
       " 92: 'PART',\n",
       " 93: 'PRON',\n",
       " 94: 'PROPN',\n",
       " 95: 'PUNCT',\n",
       " 97: 'SYM',\n",
       " 98: 'VERB',\n",
       " 99: 'X',\n",
       " 101: 'SPACE'}"
      ]
     },
     "execution_count": 25,
     "metadata": {},
     "output_type": "execute_result"
    }
   ],
   "source": [
    "# Make a quick-and-dirty lookup table of POS IDs, \n",
    "# since the default representation of a POS is numeric. \n",
    "tagDict = {w.pos: w.pos_ for w in pride} \n",
    "tagDict"
   ]
  },
  {
   "cell_type": "markdown",
   "metadata": {
    "slideshow": {
     "slide_type": "subslide"
    }
   },
   "source": [
    "<h2>It's fun to compare the distribution of parts of speech in each text:</h2>"
   ]
  },
  {
   "cell_type": "code",
   "execution_count": 26,
   "metadata": {
    "slideshow": {
     "slide_type": "subslide"
    }
   },
   "outputs": [
    {
     "data": {
      "text/plain": [
       "<matplotlib.axes._subplots.AxesSubplot at 0x14adce0b8>"
      ]
     },
     "execution_count": 26,
     "metadata": {},
     "output_type": "execute_result"
    },
    {
     "data": {
      "image/png": "[encoded data removed]",
      "text/plain": [
       "<matplotlib.figure.Figure at 0x14adf7320>"
      ]
     },
     "metadata": {},
     "output_type": "display_data"
    }
   ],
   "source": [
    "grailPOS = pd.Series(grail.count_by(spacy.attrs.POS))/len(grail)\n",
    "pridePOS = pd.Series(pride.count_by(spacy.attrs.POS))/len(pride)\n",
    "\n",
    "rcParams['figure.figsize'] = 16, 8\n",
    "df = pd.DataFrame([grailPOS, pridePOS], index=['Grail', 'Pride'])\n",
    "df.columns = [tagDict[column] for column in df.columns]\n",
    "df.T.plot(kind='bar')"
   ]
  },
  {
   "cell_type": "markdown",
   "metadata": {
    "slideshow": {
     "slide_type": "subslide"
    }
   },
   "source": [
    "<h2>Now we can see, for instance, what the most common pronouns might be:</h2>"
   ]
  },
  {
   "cell_type": "code",
   "execution_count": 27,
   "metadata": {
    "slideshow": {
     "slide_type": "fragment"
    }
   },
   "outputs": [
    {
     "data": {
      "text/plain": [
       "[('I', 2066),\n",
       " ('she', 1384),\n",
       " ('it', 1287),\n",
       " ('you', 1145),\n",
       " ('he', 1100),\n",
       " ('him', 762),\n",
       " ('her', 716),\n",
       " ('they', 477),\n",
       " ('me', 444),\n",
       " ('them', 433)]"
      ]
     },
     "execution_count": 27,
     "metadata": {},
     "output_type": "execute_result"
    }
   ],
   "source": [
    "prideAdjs = [w for w in pride if w.pos_ == 'PRON']\n",
    "Counter([w.string.strip() for w in prideAdjs]).most_common(10)"
   ]
  },
  {
   "cell_type": "code",
   "execution_count": 28,
   "metadata": {
    "slideshow": {
     "slide_type": "fragment"
    }
   },
   "outputs": [
    {
     "data": {
      "text/plain": [
       "[('I', 240),\n",
       " ('you', 202),\n",
       " ('it', 106),\n",
       " ('You', 61),\n",
       " ('We', 60),\n",
       " ('we', 57),\n",
       " ('me', 46),\n",
       " ('He', 46),\n",
       " ('he', 42),\n",
       " ('her', 36)]"
      ]
     },
     "execution_count": 28,
     "metadata": {},
     "output_type": "execute_result"
    }
   ],
   "source": [
    "grailAdjs = [w for w in grail if w.pos_ == 'PRON']\n",
    "Counter([w.string.strip() for w in grailAdjs]).most_common(10)"
   ]
  },
  {
   "cell_type": "markdown",
   "metadata": {
    "slideshow": {
     "slide_type": "subslide"
    }
   },
   "source": [
    "<h2>Let's try this on the level of a sentence. First, let's get all the sentences in which Sir Robin is explicitly mentioned:</h2>"
   ]
  },
  {
   "cell_type": "code",
   "execution_count": 29,
   "metadata": {
    "slideshow": {
     "slide_type": "subslide"
    }
   },
   "outputs": [
    {
     "data": {
      "text/plain": [
       "[Then I dub you Sir Bedevere, Knight of the Round Table\n",
       " NARRATOR: The wise Sir Bedevere was the first to join King Arthur's knights, but other illustrious names were soon to follow: Sir Lancelot the Brave; Sir Gallahad the Pure; and Sir Robin the-not-quite-so-brave-as-Sir-Lancelot, who had nearly fought the Dragon of Angnor, who had nearly stood up to the vicious Chicken of Bristol, and who had personally wet himself at the Battle of Badon Hill; and the aptly named Sir Not-appearing-in-this-film.  ,\n",
       " Now, this is what they did: Launcelot--\n",
       " KNIGHT: Aaaah! [slash] [KNIGHT kills HISTORIAN] \n",
       " HISTORIAN'S WIFE: Frank\n",
       " SCENE 10: [trumpets] \n",
       " NARRATOR: The Tale of Sir Robin.  ,\n",
       " Sir Robin rode north, through the dark forest of Ewing, accompanied by his favorite minstrels.,\n",
       " MINSTREL: [singing] Bravely bold Sir Robin, rode forth from Camelot.  ,\n",
       " He was not afraid to die, O brave Sir Robin.  ,\n",
       " Brave, brave, brave, brave Sir Robin!  ,\n",
       " To have his kneecaps split, and his body burned away, And his limbs all hacked and mangled, brave Sir Robin!,\n",
       " MINSTREL: [singing] He is brave Sir Robin, brave Sir Robin, who--\n",
       " ROBIN: Shut up!  ,\n",
       " He's scarper\n",
       " MINSTREL: [singing] Brave Sir Robin ran away.,\n",
       " MINSTREL: [singing] Yes, brave Sir Robin turned about\n",
       " ROBIN: I didn't!\n",
       " MINSTREL: [singing] And gallantly he chickened out, bravely taking to his feet.,\n",
       " ROBIN: All lies!\n",
       " MINSTREL: [singing] Bravest of the brave, Sir Robin.,\n",
       " BEDEVERE: My liege, it's Sir Robin!,\n",
       " ARTHUR: Sir Robin!,\n",
       " so, Arthur and Bedevere and Sir Robin set out on their search to find the enchanter of whom the old man had spoken in scene twenty-four.  ,\n",
       " ARTHUR: Sir Robin!,\n",
       " ROBIN: Yes?\n",
       " ARTHUR: Brave Sir Robin, you go.,\n",
       " ROBIN: Sir Robin of Camelot.]"
      ]
     },
     "execution_count": 29,
     "metadata": {},
     "output_type": "execute_result"
    }
   ],
   "source": [
    "robinSents = [sent for sent in grail.sents if 'Sir Robin' in sent.string]\n",
    "robinSents"
   ]
  },
  {
   "cell_type": "markdown",
   "metadata": {
    "slideshow": {
     "slide_type": "subslide"
    }
   },
   "source": [
    "<h2>Now let's analyze just one of these sentences.</h2>"
   ]
  },
  {
   "cell_type": "code",
   "execution_count": 30,
   "metadata": {
    "slideshow": {
     "slide_type": "fragment"
    }
   },
   "outputs": [
    {
     "data": {
      "text/plain": [
       "Sir Robin rode north, through the dark forest of Ewing, accompanied by his favorite minstrels."
      ]
     },
     "execution_count": 30,
     "metadata": {},
     "output_type": "execute_result"
    }
   ],
   "source": [
    "r2 = robinSents[2]\n",
    "r2"
   ]
  },
  {
   "cell_type": "markdown",
   "metadata": {
    "slideshow": {
     "slide_type": "subslide"
    }
   },
   "source": [
    "<h2>Let's look at the tags and parts of speech:</h2>"
   ]
  },
  {
   "cell_type": "code",
   "execution_count": 31,
   "metadata": {
    "slideshow": {
     "slide_type": "fragment"
    }
   },
   "outputs": [
    {
     "name": "stdout",
     "output_type": "stream",
     "text": [
      "Sir NNP PROPN\n",
      "Robin NNP PROPN\n",
      "rode VBD VERB\n",
      "north NN NOUN\n",
      ", , PUNCT\n",
      "through IN ADP\n",
      "the DT DET\n",
      "dark JJ ADJ\n",
      "forest NN NOUN\n",
      "of IN ADP\n",
      "Ewing NNP PROPN\n",
      ", , PUNCT\n",
      "accompanied VBN VERB\n",
      "by IN ADP\n",
      "his PRP$ ADJ\n",
      "favorite JJ ADJ\n",
      "minstrels NNS NOUN\n",
      ". . PUNCT\n",
      "\n",
      " SP SPACE\n"
     ]
    }
   ],
   "source": [
    "for word in r2: \n",
    "    print(word, word.tag_, word.pos_)"
   ]
  },
  {
   "cell_type": "markdown",
   "metadata": {
    "slideshow": {
     "slide_type": "slide"
    }
   },
   "source": [
    "# Dependency Parsing\n",
    "Now let's analyze the structure of the sentence. "
   ]
  },
  {
   "cell_type": "markdown",
   "metadata": {
    "slideshow": {
     "slide_type": "subslide"
    }
   },
   "source": [
    "<h2>This sentence has lots of properties:</h2>"
   ]
  },
  {
   "cell_type": "code",
   "execution_count": 32,
   "metadata": {
    "slideshow": {
     "slide_type": "fragment"
    }
   },
   "outputs": [
    {
     "data": {
      "text/plain": [
       "['doc',\n",
       " 'end',\n",
       " 'end_char',\n",
       " 'ent_id',\n",
       " 'ent_id_',\n",
       " 'has_vector',\n",
       " 'label',\n",
       " 'label_',\n",
       " 'lefts',\n",
       " 'lemma_',\n",
       " 'lower_',\n",
       " 'merge',\n",
       " 'noun_chunks',\n",
       " 'orth_',\n",
       " 'rights',\n",
       " 'root',\n",
       " 'sent',\n",
       " 'sentiment',\n",
       " 'similarity',\n",
       " 'start',\n",
       " 'start_char',\n",
       " 'string',\n",
       " 'subtree',\n",
       " 'text',\n",
       " 'text_with_ws',\n",
       " 'upper_',\n",
       " 'vector',\n",
       " 'vector_norm']"
      ]
     },
     "execution_count": 32,
     "metadata": {},
     "output_type": "execute_result"
    }
   ],
   "source": [
    "[prop for prop in dir(r2) if not prop.startswith('_')]"
   ]
  },
  {
   "cell_type": "markdown",
   "metadata": {
    "slideshow": {
     "slide_type": "subslide"
    }
   },
   "source": [
    "<h2>To drill down into the sentence, we can start with the root:</h2>"
   ]
  },
  {
   "cell_type": "code",
   "execution_count": 33,
   "metadata": {
    "slideshow": {
     "slide_type": "fragment"
    }
   },
   "outputs": [
    {
     "data": {
      "text/plain": [
       "rode"
      ]
     },
     "execution_count": 33,
     "metadata": {},
     "output_type": "execute_result"
    }
   ],
   "source": [
    "r2.root"
   ]
  },
  {
   "cell_type": "markdown",
   "metadata": {
    "slideshow": {
     "slide_type": "fragment"
    }
   },
   "source": [
    "<h2>That root has children:</h2>"
   ]
  },
  {
   "cell_type": "code",
   "execution_count": 34,
   "metadata": {
    "slideshow": {
     "slide_type": "fragment"
    }
   },
   "outputs": [
    {
     "data": {
      "text/plain": [
       "[Robin, north, through, .]"
      ]
     },
     "execution_count": 34,
     "metadata": {},
     "output_type": "execute_result"
    }
   ],
   "source": [
    "list(r2.root.children)"
   ]
  },
  {
   "cell_type": "markdown",
   "metadata": {
    "slideshow": {
     "slide_type": "subslide"
    }
   },
   "source": [
    "<h2>Let's see all of the children for each word:</h2>"
   ]
  },
  {
   "cell_type": "code",
   "execution_count": 35,
   "metadata": {
    "slideshow": {
     "slide_type": "fragment"
    }
   },
   "outputs": [
    {
     "name": "stdout",
     "output_type": "stream",
     "text": [
      "Sir :  []\n",
      "Robin :  [Sir]\n",
      "rode :  [Robin, north, through, .]\n",
      "north :  [,]\n",
      ", :  []\n",
      "through :  [forest]\n",
      "the :  []\n",
      "dark :  []\n",
      "forest :  [the, dark, of, accompanied]\n",
      "of :  [Ewing]\n",
      "Ewing :  [,]\n",
      ", :  []\n",
      "accompanied :  [by]\n",
      "by :  [minstrels]\n",
      "his :  []\n",
      "favorite :  []\n",
      "minstrels :  [his, favorite]\n",
      ". :  [\n",
      "]\n",
      "\n",
      " :  []\n"
     ]
    }
   ],
   "source": [
    "for word in r2: \n",
    "    print(word, ': ', str(list(word.children)))"
   ]
  },
  {
   "cell_type": "markdown",
   "metadata": {
    "slideshow": {
     "slide_type": "subslide"
    }
   },
   "source": [
    "<h2>Since adjectives are typically children of the things they describe, we can get approximations for adjectives that describe characters. How is Sir Robin described?</h2>"
   ]
  },
  {
   "cell_type": "code",
   "execution_count": 37,
   "metadata": {
    "slideshow": {
     "slide_type": "fragment"
    }
   },
   "outputs": [
    {
     "name": "stdout",
     "output_type": "stream",
     "text": [
      "brave\n",
      "bold\n",
      "brave\n",
      "brave\n",
      "brave\n",
      "brave\n",
      "brave\n",
      "brave\n"
     ]
    }
   ],
   "source": [
    "for sent in robinSents: \n",
    "    for word in sent: \n",
    "        if 'Robin' in word.string: \n",
    "            for child in word.children: \n",
    "                if child.pos_ == 'ADJ':\n",
    "                    print(child)"
   ]
  },
  {
   "cell_type": "markdown",
   "metadata": {
    "slideshow": {
     "slide_type": "subslide"
    }
   },
   "source": [
    "<h2>Now let's do something similar for Pride and Prejudice. First, we'll use named entity extraction to get a list of the most frequently mentioned characters:</h2>"
   ]
  },
  {
   "cell_type": "code",
   "execution_count": 38,
   "metadata": {
    "slideshow": {
     "slide_type": "fragment"
    }
   },
   "outputs": [
    {
     "data": {
      "text/plain": [
       "[('Elizabeth', 577),\n",
       " ('Darcy', 285),\n",
       " ('Jane', 258),\n",
       " ('Bennet', 247),\n",
       " ('Collins', 173),\n",
       " ('Wickham', 170),\n",
       " ('Bingley', 162),\n",
       " ('Lydia', 130),\n",
       " ('Lizzy', 93),\n",
       " ('Gardiner', 90)]"
      ]
     },
     "execution_count": 38,
     "metadata": {},
     "output_type": "execute_result"
    }
   ],
   "source": [
    "Counter([w.string.strip() for w in pride.ents if w.label_ == 'PERSON']).most_common(10)"
   ]
  },
  {
   "cell_type": "markdown",
   "metadata": {
    "slideshow": {
     "slide_type": "subslide"
    }
   },
   "source": [
    "<h2>Now we can write a function that walks down the tree from each character, looking for the first adjectives it can find:</h2>"
   ]
  },
  {
   "cell_type": "code",
   "execution_count": 39,
   "metadata": {
    "collapsed": true,
    "slideshow": {
     "slide_type": "fragment"
    }
   },
   "outputs": [],
   "source": [
    "def adjectivesDescribingCharacters(text, character):\n",
    "    sents = [sent for sent in pride.sents if character in sent.string]\n",
    "    adjectives = []\n",
    "    for sent in sents: \n",
    "        for word in sent: \n",
    "            if character in word.string:\n",
    "                for child in word.children: \n",
    "                    if child.pos_ == 'ADJ': \n",
    "                        adjectives.append(child.string.strip())\n",
    "    return Counter(adjectives).most_common(10)"
   ]
  },
  {
   "cell_type": "markdown",
   "metadata": {
    "slideshow": {
     "slide_type": "subslide"
    }
   },
   "source": [
    "<h2>We'll try it on Mr. Darcy:</h2>"
   ]
  },
  {
   "cell_type": "code",
   "execution_count": 40,
   "metadata": {
    "slideshow": {
     "slide_type": "fragment"
    }
   },
   "outputs": [
    {
     "data": {
      "text/plain": [
       "[('late', 4),\n",
       " ('present', 2),\n",
       " ('disappointing', 1),\n",
       " ('bad', 1),\n",
       " ('superior', 1),\n",
       " ('abominable', 1),\n",
       " ('whose', 1),\n",
       " ('its', 1),\n",
       " ('poor', 1),\n",
       " ('deficient', 1)]"
      ]
     },
     "execution_count": 40,
     "metadata": {},
     "output_type": "execute_result"
    }
   ],
   "source": [
    "adjectivesDescribingCharacters(pride, 'Darcy')"
   ]
  },
  {
   "cell_type": "markdown",
   "metadata": {
    "slideshow": {
     "slide_type": "subslide"
    }
   },
   "source": [
    "<h2>Now let's do the same sort of thing, but look for associated verbs. First, let's get all the sentences in which Elizabeth is mentioned:</h2>"
   ]
  },
  {
   "cell_type": "code",
   "execution_count": 41,
   "metadata": {
    "collapsed": true,
    "slideshow": {
     "slide_type": "fragment"
    }
   },
   "outputs": [],
   "source": [
    "elizabethSentences = [sent for sent in pride.sents if 'Elizabeth' in sent.string]"
   ]
  },
  {
   "cell_type": "code",
   "execution_count": 42,
   "metadata": {
    "slideshow": {
     "slide_type": "fragment"
    }
   },
   "outputs": [
    {
     "data": {
      "text/plain": [
       "Mr. Darcy walked off; and Elizabeth\n",
       "remained with no very cordial feelings toward him."
      ]
     },
     "execution_count": 42,
     "metadata": {},
     "output_type": "execute_result"
    }
   ],
   "source": [
    "elizabethSentences[3]"
   ]
  },
  {
   "cell_type": "markdown",
   "metadata": {
    "slideshow": {
     "slide_type": "fragment"
    }
   },
   "source": [
    "<h3>We want the verb associated with Elizabeth, _remained_, not the root verb of the sentence, _walked_, which is associated with Mr. Darcy. So let's write a function that will walk up the dependency tree from a character's name until we get to the first verb. \n",
    "\n",
    "We'll use lemmas instead of the conjugated forms to collapse _remain_, _remains_, and _remained_ into one verb: _remain_.</h3>"
   ]
  },
  {
   "cell_type": "code",
   "execution_count": 44,
   "metadata": {
    "collapsed": true,
    "slideshow": {
     "slide_type": "fragment"
    }
   },
   "outputs": [],
   "source": [
    "def verbsForCharacters(text, character):\n",
    "    sents = [sent for sent in pride.sents if character in sent.string]\n",
    "    charWords = []\n",
    "    for sent in sents: \n",
    "        for word in sent: \n",
    "            if character in word.string: \n",
    "                charWords.append(word)\n",
    "    charAdjectives = []\n",
    "    for word in charWords: \n",
    "        # Start walking up the list of ancestors \n",
    "        # Until we get to the first verb. \n",
    "        for ancestor in word.ancestors: \n",
    "            if ancestor.pos_.startswith('V'): \n",
    "                charAdjectives.append(ancestor.lemma_.strip())\n",
    "    return Counter(charAdjectives).most_common(20)"
   ]
  },
  {
   "cell_type": "code",
   "execution_count": 45,
   "metadata": {
    "scrolled": true,
    "slideshow": {
     "slide_type": "subslide"
    }
   },
   "outputs": [
    {
     "data": {
      "text/plain": [
       "[('be', 199),\n",
       " ('say', 64),\n",
       " ('have', 34),\n",
       " ('see', 25),\n",
       " ('reply', 24),\n",
       " ('cry', 24),\n",
       " ('make', 20),\n",
       " ('look', 17),\n",
       " ('feel', 17),\n",
       " ('give', 13),\n",
       " ('think', 11),\n",
       " ('receive', 10),\n",
       " ('take', 10),\n",
       " ('walk', 9),\n",
       " ('begin', 9),\n",
       " ('know', 9),\n",
       " ('go', 9),\n",
       " ('listen', 8),\n",
       " ('help', 8),\n",
       " ('find', 8)]"
      ]
     },
     "execution_count": 45,
     "metadata": {},
     "output_type": "execute_result"
    }
   ],
   "source": [
    "elizabethVerbs = verbsForCharacters(pride, 'Elizabeth')\n",
    "elizabethVerbs"
   ]
  },
  {
   "cell_type": "code",
   "execution_count": 23,
   "metadata": {
    "slideshow": {
     "slide_type": "subslide"
    }
   },
   "outputs": [
    {
     "ename": "NameError",
     "evalue": "name 'verbsForCharacters' is not defined",
     "output_type": "error",
     "traceback": [
      "\u001b[0;31m---------------------------------------------------------------------------\u001b[0m",
      "\u001b[0;31mNameError\u001b[0m                                 Traceback (most recent call last)",
      "\u001b[0;32m<ipython-input-23-4232b62b7c18>\u001b[0m in \u001b[0;36m<module>\u001b[0;34m()\u001b[0m\n\u001b[0;32m----> 1\u001b[0;31m \u001b[0mdarcyVerbs\u001b[0m \u001b[0;34m=\u001b[0m \u001b[0mverbsForCharacters\u001b[0m\u001b[0;34m(\u001b[0m\u001b[0mpride\u001b[0m\u001b[0;34m,\u001b[0m \u001b[0;34m'Darcy'\u001b[0m\u001b[0;34m)\u001b[0m\u001b[0;34m\u001b[0m\u001b[0m\n\u001b[0m\u001b[1;32m      2\u001b[0m \u001b[0mjaneVerbs\u001b[0m \u001b[0;34m=\u001b[0m \u001b[0mverbsForCharacters\u001b[0m\u001b[0;34m(\u001b[0m\u001b[0mpride\u001b[0m\u001b[0;34m,\u001b[0m \u001b[0;34m'Jane'\u001b[0m\u001b[0;34m)\u001b[0m\u001b[0;34m\u001b[0m\u001b[0m\n",
      "\u001b[0;31mNameError\u001b[0m: name 'verbsForCharacters' is not defined"
     ]
    }
   ],
   "source": [
    "darcyVerbs = verbsForCharacters(pride, 'Darcy')\n",
    "janeVerbs = verbsForCharacters(pride, 'Jane')"
   ]
  },
  {
   "cell_type": "markdown",
   "metadata": {
    "slideshow": {
     "slide_type": "subslide"
    }
   },
   "source": [
    "<h2>Now merge these counts into a single table, and then visualize it with Pandas.</h2>"
   ]
  },
  {
   "cell_type": "code",
   "execution_count": 47,
   "metadata": {
    "slideshow": {
     "slide_type": "subslide"
    }
   },
   "outputs": [
    {
     "data": {
      "text/plain": [
       "<matplotlib.axes._subplots.AxesSubplot at 0x14af9dc18>"
      ]
     },
     "execution_count": 47,
     "metadata": {},
     "output_type": "execute_result"
    },
    {
     "data": {
      "image/png": "[encoded data removed]",
      "text/plain": [
       "<matplotlib.figure.Figure at 0x14af9d5f8>"
      ]
     },
     "metadata": {},
     "output_type": "display_data"
    }
   ],
   "source": [
    "def verbsToMatrix(verbCounts): \n",
    "    \"\"\" \n",
    "    Takes verb counts given by verbsForCharacters \n",
    "    and makes Pandas Series out of them, suitabe for combination in \n",
    "    a DataFrame. \n",
    "    \"\"\"\n",
    "    return pd.Series({t[0]: t[1] for t in verbCounts})\n",
    "\n",
    "verbsDF = pd.DataFrame({'Elizabeth': verbsToMatrix(elizabethVerbs), \n",
    "                        'Darcy': verbsToMatrix(darcyVerbs), \n",
    "                        'Jane': verbsToMatrix(janeVerbs)}).fillna(0)\n",
    "verbsDF.plot(kind='bar', figsize=(14,4))"
   ]
  },
  {
   "cell_type": "markdown",
   "metadata": {
    "slideshow": {
     "slide_type": "slide"
    }
   },
   "source": [
    "# Probabilities\n",
    "\n",
    "SpaCy has a list of probabilities for English words, and these probabilities are automatically associated with each word once we parse the document. Let's see what the distribution is like: "
   ]
  },
  {
   "cell_type": "code",
   "execution_count": 48,
   "metadata": {
    "slideshow": {
     "slide_type": "subslide"
    }
   },
   "outputs": [
    {
     "data": {
      "text/plain": [
       "<matplotlib.axes._subplots.AxesSubplot at 0x14c144748>"
      ]
     },
     "execution_count": 48,
     "metadata": {},
     "output_type": "execute_result"
    },
    {
     "data": {
      "image/png": "[encoded data removed]",
      "text/plain": [
       "<matplotlib.figure.Figure at 0x14af86978>"
      ]
     },
     "metadata": {},
     "output_type": "display_data"
    }
   ],
   "source": [
    "probabilities = [word.prob for word in grail] \n",
    "pd.Series(probabilities).hist()"
   ]
  },
  {
   "cell_type": "markdown",
   "metadata": {
    "slideshow": {
     "slide_type": "slide"
    }
   },
   "source": [
    "<h2>Let's look at some of the improbable words for _Monty Python and the Holy Grail_.</h2>"
   ]
  },
  {
   "cell_type": "code",
   "execution_count": 49,
   "metadata": {
    "scrolled": true,
    "slideshow": {
     "slide_type": "subslide"
    }
   },
   "outputs": [
    {
     "data": {
      "text/plain": [
       "['middle',\n",
       " 'profane',\n",
       " 'shalt',\n",
       " 'diaphragm',\n",
       " 'thud',\n",
       " 'fiends',\n",
       " 'heee',\n",
       " 'castle',\n",
       " 'herring',\n",
       " 'approacheth',\n",
       " 'illustrious',\n",
       " 'zhiv',\n",
       " 'flint',\n",
       " 'sod',\n",
       " 'cart',\n",
       " 'resting',\n",
       " 'grenade',\n",
       " 'tower',\n",
       " 'c--',\n",
       " 'king']"
      ]
     },
     "execution_count": 49,
     "metadata": {},
     "output_type": "execute_result"
    }
   ],
   "source": [
    "list(set([word.string.strip().lower() for word in grail if word.prob < -19]))[:20]"
   ]
  },
  {
   "cell_type": "markdown",
   "metadata": {
    "slideshow": {
     "slide_type": "slide"
    }
   },
   "source": [
    "<h2>Now we can do some rudimentary information extraction by counting the improbable words:</h2>"
   ]
  },
  {
   "cell_type": "code",
   "execution_count": 50,
   "metadata": {
    "scrolled": true,
    "slideshow": {
     "slide_type": "subslide"
    }
   },
   "outputs": [
    {
     "data": {
      "text/plain": [
       "[('arthur', 261),\n",
       " ('launcelot', 100),\n",
       " ('knight', 84),\n",
       " ('galahad', 80),\n",
       " ('ni', 69),\n",
       " ('father', 68),\n",
       " ('bedevere', 67),\n",
       " ('knights', 65),\n",
       " ('robin', 58),\n",
       " ('head', 54),\n",
       " ('guard', 53),\n",
       " ('villager', 47),\n",
       " ('clop', 39),\n",
       " ('grail', 39),\n",
       " ('tim', 34),\n",
       " ('black', 32),\n",
       " ('burn', 32),\n",
       " ('mumble', 30),\n",
       " ('french', 29),\n",
       " ('squeak', 29)]"
      ]
     },
     "execution_count": 50,
     "metadata": {},
     "output_type": "execute_result"
    }
   ],
   "source": [
    "Counter([word.string.strip().lower() \n",
    "         for word in grail \n",
    "         if word.prob < -19.5]).most_common(20)"
   ]
  },
  {
   "cell_type": "markdown",
   "metadata": {
    "slideshow": {
     "slide_type": "slide"
    }
   },
   "source": [
    "<h2>What are those words for _Pride and Prejudice_?</h2>"
   ]
  },
  {
   "cell_type": "code",
   "execution_count": 51,
   "metadata": {
    "slideshow": {
     "slide_type": "subslide"
    }
   },
   "outputs": [
    {
     "data": {
      "text/plain": [
       "[('cried', 91),\n",
       " ('aunt', 84),\n",
       " ('sisters', 73),\n",
       " ('chapter', 60),\n",
       " ('affection', 58),\n",
       " ('acquaintance', 52),\n",
       " ('agreeable', 45),\n",
       " ('scarcely', 45),\n",
       " ('manners', 44),\n",
       " ('carriage', 44),\n",
       " ('honour', 42),\n",
       " ('civility', 42),\n",
       " ('ladyship', 42),\n",
       " ('wished', 40),\n",
       " ('gentleman', 39),\n",
       " ('spirits', 39),\n",
       " ('gentlemen', 38),\n",
       " ('handsome', 37),\n",
       " ('amiable', 35),\n",
       " ('invitation', 34)]"
      ]
     },
     "execution_count": 51,
     "metadata": {},
     "output_type": "execute_result"
    }
   ],
   "source": [
    "Counter([word.string.strip().lower() \n",
    "         for word in pride \n",
    "         if word.prob < -19.5 \n",
    "         and word.is_alpha\n",
    "         and word.pos_ != 'PROPN'] # This time, let's ignore proper nouns.\n",
    "       ).most_common(20)"
   ]
  },
  {
   "cell_type": "markdown",
   "metadata": {
    "slideshow": {
     "slide_type": "slide"
    }
   },
   "source": [
    "<h2>We can do this with ngrams, too, with some fancy Python magic:</h2>"
   ]
  },
  {
   "cell_type": "code",
   "execution_count": 52,
   "metadata": {
    "collapsed": true,
    "slideshow": {
     "slide_type": "fragment"
    }
   },
   "outputs": [],
   "source": [
    "def ngrams(doc, n): \n",
    "    doc = [word for word in doc \n",
    "           if word.is_alpha # Get rid of punctuation\n",
    "           if not word.string.isupper()] # Get rid of all-caps speaker headings\n",
    "    return list(zip(*[doc[i:] for i in range(n)]))"
   ]
  },
  {
   "cell_type": "code",
   "execution_count": 53,
   "metadata": {
    "collapsed": true,
    "slideshow": {
     "slide_type": "fragment"
    }
   },
   "outputs": [],
   "source": [
    "grailGrams = set(ngrams(grail, 3))"
   ]
  },
  {
   "cell_type": "code",
   "execution_count": 55,
   "metadata": {
    "slideshow": {
     "slide_type": "subslide"
    }
   },
   "outputs": [
    {
     "name": "stdout",
     "output_type": "stream",
     "text": [
      "(worthy, adversary, Tis)\n",
      "(Clear, off, sniff)\n",
      "(Roger, the, Shrubber)\n",
      "(the, Tall, Tower)\n",
      "(performance, clop, clop)\n",
      "(Launcelot, Launcelot, Launcelot)\n",
      "(knights, Nay, Nay)\n",
      "(a, Saint, Aauuuves)\n",
      "(Tower, of, Swamp)\n",
      "(Spring, and, Summer)\n",
      "(mangy, scots, git)\n",
      "(heh, heh, ho)\n",
      "(twong, baaaa, Jesus)\n",
      "(foul, temptress, You)\n",
      "(Brother, Maynard, You)\n",
      "(life, bathing, dressing)\n",
      "(dead, clang, Bring)\n",
      "(Ohh, Right, Charge)\n",
      "(mumble, bells, Hah)\n",
      "(knight, Sir, Galahad)\n",
      "(Pie, Iesu, domine)\n",
      "(Lancelot, the, Brave)\n",
      "(bois, Quoi, Un)\n",
      "(horrendous, Black, Beast)\n",
      "(Divine, Providence, that)\n",
      "(mumble, boom, mumble)\n",
      "(boom, howl, boom)\n",
      "(Hello, Welcome, gentle)\n",
      "(an, anarcho, syndicalist)\n",
      "(Burn, Burn, Who)\n",
      "(Grail, Heh, hee)\n",
      "(clang, cough, cough)\n",
      "(brave, Sir, Robin)\n",
      "(ha, Charge, Hooray)\n",
      "(bad, tempered, rodent)\n",
      "(outside, castle, Morning)\n",
      "(Black, Beast, lunged)\n",
      "(roar, Shh, Shh)\n",
      "(quests, we, sequin)\n",
      "(the, strongest, castle)\n",
      "(eis, requiem, witch)\n",
      "(thy, Holy, Hand)\n",
      "(hee, heh, Stop)\n",
      "(Great, scott, Hm)\n",
      "(brave, Sir, Robin)\n",
      "(Neee, wom, Those)\n",
      "(Ohh, Aaaaugh, And)\n",
      "(in, ponds, distributing)\n",
      "(floats, Throw, her)\n",
      "(shrubbery, dramatic, chord)\n",
      "(dramatic, chord, roar)\n",
      "(stew, comin, right)\n",
      "(Thsss, boom, Ayy)\n",
      "(farcical, aquatic, ceremony)\n",
      "(More, witches, Shh)\n",
      "(Burn, Burn, her)\n",
      "(Brother, Maynard, carries)\n",
      "(Woa, wayy, twang)\n",
      "(scribble, scribble, fold)\n",
      "(wicked, Zoot, Oh)\n",
      "(giggle, giggle, outside)\n",
      "(mumble, boom, mumble)\n",
      "(Action, Defeat, at)\n",
      "(Heh, heh, heeh)\n",
      "(vache, mooo, If)\n",
      "(handsome, knights, Nay)\n",
      "(mumble, mumble, mumble)\n",
      "(But, Father, lad)\n",
      "(blessing, blessing, from)\n",
      "(Quoi, Un, cadeau)\n",
      "(name, handsome, knight)\n",
      "(rewr, clang, Bring)\n",
      "(herring, dramatic, chord)\n",
      "(yes, Saint, Iiiives)\n",
      "(hospital, Ahh, squeak)\n",
      "(Morning, Morning, Oooh)\n",
      "(Beast, lunged, forward)\n",
      "(requiem, bonk, Pie)\n",
      "(him, Brother, Maynard)\n",
      "(Grenade, of, Antioch)\n",
      "(clop, clop, rewr)\n",
      "(castle, Camelot, Uh)\n",
      "(a, vicious, streak)\n",
      "(the, van, Clear)\n",
      "(Christ, Christ, thud)\n",
      "(Table, Who, castle)\n",
      "(spank, her, spanking)\n",
      "(Ecky, ecky, ecky)\n",
      "(Tall, Tower, you)\n",
      "(today, Heee, Hoa)\n",
      "(squeak, rrrr, rrrr)\n",
      "(Launcelot, of, Camelot)\n",
      "(clap, clap, Well)\n",
      "(the, Enchanter, Greetings)\n",
      "(Ulk, thump, The)\n",
      "(off, sniff, mumble)\n",
      "(requiem, Pie, Iesu)\n",
      "(pond, The, pond)\n",
      "(music, clop, clop)\n",
      "(Grail, boom, singing)\n",
      "(some, moistened, bint)\n",
      "(Sir, Bedevere, Knight)\n",
      "(clap, in, medieval)\n",
      "(say, ni, Agh)\n",
      "(bonk, Pie, Iesu)\n",
      "(in, Castle, Anthrax)\n",
      "(creak, whispering, un)\n",
      "(la, vache, mooo)\n",
      "(Castle, Anthrax, The)\n",
      "(follow, Sir, Lancelot)\n",
      "(Ahh, squeak, Ooh)\n",
      "(Aaaaaaaaah, woosh, kills)\n",
      "(squeak, squeak, squeak)\n",
      "(brave, Sir, Robin)\n",
      "(unsingable, We, opera)\n",
      "(behold, your, humble)\n",
      "(Yup, Yup, Hm)\n",
      "(my, trusty, servant)\n",
      "(signifying, by, Divine)\n",
      "(daughter, clap, clap)\n",
      "(hee, hee, Hee)\n",
      "(witches, Burn, Burn)\n",
      "(seek, warmer, climes)\n",
      "(Augh, Ohh, Do)\n",
      "(bonk, dona, eis)\n",
      "(clap, clap, clap)\n",
      "(eccentric, performance, clop)\n",
      "(English, k, nnnnniggets)\n",
      "(daring, and, heroic)\n",
      "(minstrels, singing, Bravely)\n",
      "(ecky, ecky, pikang)\n",
      "(Heh, hee, hee)\n",
      "(singing, howl, boom)\n",
      "(bonk, Pie, Iesu)\n",
      "(thonk, Um, woosh)\n",
      "(cough, clang, cough)\n",
      "(Huyah, clang, Hiyaah)\n",
      "(Oooh, ptoo, Ha)\n",
      "(and, Ni, Ohh)\n",
      "(Launcelot, Launcelot, Launcelot)\n",
      "(Knights, of, Ni)\n",
      "(Ni, Ni, Ni)\n",
      "(and, influential, knight)\n",
      "(Herbert, Erbert, We)\n",
      "(intermission, suspenseful, music)\n",
      "(eis, requiem, Pie)\n",
      "(unarmed, Who, leaps)\n",
      "(Grenade, chanting, Pie)\n",
      "(mumble, mumble, mumble)\n",
      "(nnnnniggets, Thpppppt, Thppt)\n",
      "(Morning, Oooh, ptoo)\n",
      "(individually, clop, clop)\n",
      "(carve, aaggggh, He)\n",
      "(chickened, out, bravely)\n",
      "(idea, Behold, angels)\n",
      "(Churches, Lead, Lead)\n",
      "(dead, clang, Bring)\n",
      "(Concorde, Speak, to)\n",
      "(pweeng, boom, boom)\n",
      "(the, Grail, Seek)\n",
      "(two, laden, swallows)\n",
      "(the, purest, shimmering)\n",
      "(chanting, Pie, Iesu)\n",
      "(Pie, Iesu, domine)\n",
      "(scholar, It, Aramaic)\n",
      "(Grail, Meanwhile, King)\n",
      "(tiny, brained, wipers)\n",
      "(door, squeak, thump)\n",
      "(grovel, singing, stops)\n",
      "(Aah, boom, pweeng)\n",
      "(Welcome, gentle, Sir)\n",
      "(mayest, blow, thine)\n",
      "(Sir, Galahad, Come)\n",
      "(then, twong, mooooooo)\n",
      "(Ho, ho, Woa)\n",
      "(mumble, mumble, mumble)\n",
      "(Aaah, Hyy, Hya)\n",
      "(of, Swamp, Castle)\n",
      "(dead, clang, Bring)\n",
      "(Listen, Herbert, Erbert)\n",
      "(kingdom, lad, But)\n",
      "(rewr, squeak, squeak)\n",
      "(rabbit, dynamite, Would)\n",
      "(Yeaaah, Yeaah, Did)\n",
      "(domine, dona, eisrequiem)\n",
      "(attack, Ulk, thump)\n",
      "(squeak, squeak, squeak)\n",
      "(taunting, Fiends, tear)\n",
      "(her, spanking, spanking)\n",
      "(Knight, always, triumphs)\n",
      "(mumble, mumble, mumble)\n",
      "(lunged, forward, escape)\n",
      "(down, clap, clap)\n",
      "(swamp, Other, kings)\n",
      "(clop, clop, clop)\n",
      "(Brave, Sir, Robin)\n",
      "(Bors, Chop, his)\n",
      "(woosh, kills, thud)\n",
      "(words, Ni, Peng)\n",
      "(this, sacred, castle)\n",
      "(donkey, bottom, biters)\n",
      "(shimmering, samite, held)\n",
      "(hee, Hee, hee)\n",
      "(boom, squeak, boom)\n",
      "(Anarcho, syndicalism, is)\n",
      "(kingdom, of, Mercea)\n",
      "(nice, castle, Camelot)\n",
      "(spanking, the, oral)\n",
      "(squeak, squeak, squeak)\n",
      "(Recently, Said, Ni)\n",
      "(Hold, it, Hold)\n",
      "(Ni, Ni, Ni)\n",
      "(squeak, squeak, clllank)\n",
      "(her, Burn, Burn)\n",
      "(a, sacred, quest)\n",
      "(boom, mumble, mumble)\n",
      "(Ohh, Burn, the)\n",
      "(clop, clop, clop)\n",
      "(Pie, Iesu, domine)\n",
      "(dead, Ninepence, clang)\n",
      "(Hoa, crash, Hoo)\n",
      "(un, cadeau, Oui)\n",
      "(shrubberies, Yes, Shrubberies)\n",
      "(Ni, Ni, Ni)\n",
      "(Tim, Follow, But)\n",
      "(sniff, mumble, mumble)\n",
      "(trumpets, The, Tale)\n",
      "(Right, Yeaaah, Yeaah)\n",
      "(Hand, Grenade, of)\n",
      "(liege, Consult, the)\n",
      "(Aaagh, clang, and)\n",
      "(scott, Hm, Hmm)\n",
      "(path, path, Ni)\n",
      "(Sir, Robin, singing)\n",
      "(eis, requiem, Pie)\n",
      "(Aaauugh, Black, Beast)\n",
      "(being, repressed, Bloody)\n",
      "(Iiiives, Iiiiives, Oooohoohohooo)\n",
      "(Castle, of, uuggggggh)\n",
      "(Meanwhile, King, Arthur)\n",
      "(mumble, mumble, boom)\n",
      "(marrying, Princess, Lucky)\n",
      "(bint, had, lobbed)\n",
      "(gravy, Cherries, Mud)\n",
      "(donaeis, requiem, Pie)\n",
      "(Three, angels, sing)\n",
      "(Quiet, Quiet, Quiet)\n",
      "(is, Silence, foul)\n",
      "(whop, clunk, creak)\n",
      "(trumpets, The, Tale)\n",
      "(rewr, Old, crone)\n",
      "(Run, awaaaaay, roar)\n",
      "(ha, Huy, Uuh)\n",
      "(dead, Prince, Oooh)\n",
      "(Pie, Iesu, domine)\n",
      "(suddenly, stops, intermission)\n",
      "(mangled, brave, Sir)\n",
      "(knights, seemed, hopeless)\n",
      "(boom, clap, clap)\n",
      "(halves, of, coconut)\n",
      "(Mmm, nice, Spring)\n",
      "(lambs, and, sloths)\n",
      "(Shh, Shh, Shh)\n",
      "(boom, Ohh, crash)\n",
      "(thy, hand, grenade)\n",
      "(thou, thy, Holy)\n",
      "(You, tit, soiled)\n",
      "(Robin, singing, Packing)\n",
      "(Launcelot, angels, sing)\n",
      "(Arthur, Arthur, King)\n",
      "(dappy, English, k)\n",
      "(this, sacred, castle)\n",
      "(Ewing, accompanied, by)\n",
      "(mumble, mumble, boom)\n",
      "(Lord, Right, Arthur)\n",
      "(on, Concorde, thwonk)\n",
      "(twenty, four, Beyond)\n",
      "(music, thud, thud)\n",
      "(clap, clap, Oh)\n",
      "(witches, Shh, Wood)\n",
      "(path, Ni, Shh)\n",
      "(Aaah, hiyaah, etc)\n",
      "(naughty, evil, Zoot)\n",
      "(Book, of, Armaments)\n",
      "(Grail, Brave, brave)\n",
      "(Umm, clop, clop)\n",
      "(anchovies, and, orangutans)\n",
      "(into, Autumn, Aah)\n",
      "(uh, Camelot, Hurry)\n",
      "(whop, chops, the)\n",
      "(clang, Hiyaah, clang)\n",
      "(Aaaaaah, Aaaaaaaaah, woosh)\n",
      "(bleeder, One, rabbit)\n",
      "(Grail, The, Grail)\n",
      "(lad, the, strongest)\n",
      "(hills, and, valleys)\n",
      "(music, resumes, Launcelot)\n",
      "(Sir, Robin, His)\n",
      "(stops, stab, Aagh)\n",
      "(Arthur, and, Bedevere)\n",
      "(Wayy, twang, Wayy)\n",
      "(Knights, Who, Til)\n",
      "(Lie, down, clap)\n",
      "(Christ, thud, Allo)\n",
      "(chanting, Pie, Iesu)\n",
      "(mumble, boom, Ohh)\n",
      "(me, Tim, Greetings)\n",
      "(suspenseful, music, resumes)\n",
      "(Ni, Ni, Ni)\n",
      "(squeak, boom, boom)\n",
      "(Two, verses, Nine)\n",
      "(Launcelot, Hurry, Shut)\n",
      "(giggle, outside, castle)\n",
      "(Shh, Shh, We)\n",
      "(Clark, Gable, It)\n",
      "(Ahh, Summer, changed)\n",
      "(scribble, fold, fold)\n",
      "(thwonk, Message, for)\n",
      "(zoop, boing, goodem)\n",
      "(Ni, Ni, Ni)\n",
      "(fatal, wounding, of)\n",
      "(Holy, Hand, Grenade)\n",
      "(Um, woosh, Oooh)\n",
      "(shivering, Winter, changed)\n",
      "(giggle, giggle, Ha)\n",
      "(Camelot, in, medieval)\n",
      "(Battle, of, Badon)\n",
      "(heeh, ooh, twang)\n",
      "(pikang, zoop, boing)\n",
      "(Shh, Shh, Shh)\n",
      "(Shh, Shh, We)\n",
      "(Round, Table, clop)\n",
      "(Excalibur, singing, stops)\n",
      "(Arthur, having, consulted)\n",
      "(rewr, rewr, rewr)\n",
      "(Hang, on, Hang)\n",
      "(thud, scrape, Umm)\n",
      "(servant, Patsy, We)\n",
      "(twang, Wayy, twang)\n",
      "(clap, clap, For)\n",
      "(Hand, Grenade, chanting)\n",
      "(wounded, in, vain)\n",
      "(mumble, mumble, mumble)\n",
      "(your, humble, servant)\n",
      "(room, Alright, Hic)\n",
      "(Round, Table, My)\n",
      "(fellows, outwit, you)\n",
      "(haaa, ha, Walk)\n",
      "(into, Spring, Mmm)\n",
      "(Bedevere, my, liege)\n",
      "(Zoot, identical, twin)\n",
      "(Father, but, Father)\n",
      "(Burn, her, Burn)\n",
      "(Hah, clunk, Come)\n",
      "(pause, Hallo, Allo)\n",
      "(Britons, defeator, of)\n",
      "(trumpets, Camelot, Camelot)\n",
      "(blondes, and, brunettes)\n",
      "(stops, Aaagh, clang)\n",
      "(eight, Action, Defeat)\n",
      "(strand, of, creeper)\n",
      "(Ni, Ni, Agh)\n",
      "(Brave, Sir, Robin)\n",
      "(One, rabbit, stew)\n",
      "(Arimathea, Course, What)\n",
      "(join, King, Arthur)\n",
      "(liege, trumpets, Camelot)\n",
      "(hee, Ha, hee)\n",
      "(Hold, it, Hold)\n",
      "(to, outdated, imperialist)\n",
      "(quack, quack, quack)\n",
      "(the, Grail, individually)\n",
      "(y, va, Bon)\n",
      "(Hmm, boom, Hm)\n",
      "(cough, cough, clang)\n",
      "(thump, squeak, boom)\n",
      "(Gallahad, the, Pure)\n",
      "(Britons, My, liege)\n",
      "(what, Ni, Ni)\n",
      "(the, curtains, lad)\n",
      "(which, Arthur, discovers)\n",
      "(dressing, undressing, making)\n",
      "(it, ni, Nu)\n",
      "(clop, whinny, whinny)\n",
      "(lonely, life, bathing)\n",
      "(draw, Come, Patsy)\n",
      "(thy, foe, who)\n",
      "(Pie, Iesu, domine)\n",
      "(Thsss, boom, Ayy)\n",
      "(singing, Bravely, bold)\n",
      "(Fetchez, la, vache)\n",
      "(Piglet, Doctor, Winston)\n",
      "(Oui, oui, Hurry)\n",
      "(be, praised, Almighty)\n",
      "(legendary, Black, Beast)\n",
      "(anyway, Burn, Burn)\n",
      "(moistened, bint, had)\n",
      "(Charge, squeak, squeak)\n",
      "(sawwwww, clunk, crash)\n",
      "(carp, and, anchovies)\n",
      "(Pie, Iesu, domine)\n",
      "(curtains, lad, All)\n",
      "(the, Round, Table)\n",
      "(singing, Bravely, ran)\n",
      "(you, marrying, Princess)\n",
      "(swallows, flights, four)\n",
      "(scenes, With, footwork)\n",
      "(tale, The, Knights)\n",
      "(niggets, and, Monsieur)\n",
      "(clop, clop, Halt)\n",
      "(Thpppppt, Thppt, Thppt)\n",
      "(Ni, Ni, Ni)\n",
      "(the, Round, Table)\n",
      "(angels, singing, howl)\n",
      "(Zoot, Prepare, a)\n",
      "(ooh, twang, chanting)\n",
      "(boom, boom, angels)\n",
      "(Hmm, mumble, mumble)\n",
      "(lapin, lapin, de)\n",
      "(test, Knights, Knights)\n",
      "(sixteen, and, nineteen)\n",
      "(clop, clop, clop)\n",
      "(Aauuggghhh, Aaauggh, Do)\n",
      "(crone, rewr, music)\n",
      "(dead, clang, Bring)\n",
      "(Ni, Agh, Ni)\n",
      "(thud, King, Arthur)\n",
      "(lobbest, thou, thy)\n",
      "(twong, mooooooo, Jesus)\n",
      "(Armaments, Chapter, Two)\n",
      "(off, chanting, Pie)\n",
      "(some, watery, tart)\n",
      "(dead, rewr, clang)\n",
      "(closest, knights, decided)\n",
      "(Camelot, Hurry, Sir)\n",
      "(and, impersonate, Clark)\n",
      "(three, Four, shalt)\n",
      "(Oooh, splat, crying)\n",
      "(Hello, Hello, Zoot)\n",
      "(thou, mayest, blow)\n",
      "(And, Saint, Attila)\n",
      "(witch, witch, Burn)\n",
      "(boom, boom, squeak)\n",
      "(flint, or, tinder)\n",
      "(illegitimate, faced, bugger)\n",
      "(Burn, her, Burn)\n",
      "(clop, clop, clop)\n",
      "(Splendid, Aah, boom)\n",
      "(Hang, on, Hang)\n",
      "(lad, But, Father)\n",
      "(clap, clap, in)\n",
      "(Uuh, Aaah, Ha)\n",
      "(Look, squeak, Aaaugh)\n",
      "(Concorde, Concorde, Speak)\n",
      "(Ni, Shh, Ni)\n",
      "(scots, git, warning)\n",
      "(singing, Brave, Sir)\n",
      "(domine, dona, eis)\n",
      "(Ni, Ni, Ni)\n",
      "(sacred, words, Ni)\n",
      "(Arthur, music, thud)\n",
      "(mumble, mumble, boom)\n",
      "(angels, sing, singing)\n",
      "(favorite, minstrels, singing)\n",
      "(clank, scribble, scribble)\n",
      "(perpetuating, autocracy, in)\n",
      "(Pie, Iesu, domine)\n",
      "(Thppt, Thppt, What)\n",
      "(Arthur, knights, but)\n",
      "(mumble, boom, Ay)\n",
      "(the, Tall, Tower)\n",
      "(her, Burn, Burn)\n",
      "(singing, stops, blessing)\n",
      "(Right, clop, clop)\n",
      "(awaaaaay, roar, Keep)\n",
      "(clap, clap, And)\n",
      "(witch, chanting, Pie)\n",
      "(the, Round, Table)\n",
      "(Robin, brave, Sir)\n",
      "(wicked, wicked, Zoot)\n",
      "(haw, Haw, Haw)\n",
      "(Aauuuves, in, Cornwall)\n",
      "(Four, shalt, thou)\n",
      "(Burn, her, Burn)\n",
      "(scarper, singing, Brave)\n",
      "(Grenade, of, Antioch)\n",
      "(Grail, Our, quest)\n",
      "(Launcelot, Launcelot, Launcelot)\n",
      "(thank, Thee, Lord)\n",
      "(stops, Aaagh, King)\n",
      "(la, vache, Quoi)\n",
      "(alight, the, grail)\n",
      "(naughty, Zoot, She)\n",
      "(wield, supreme, executive)\n",
      "(ecky, pikang, zoop)\n",
      "(Himself, has, guided)\n",
      "(Brave, brave, Concorde)\n",
      "(dead, clang, Bring)\n",
      "(haw, heh, clack)\n",
      "(kills, Frank, trumpets)\n",
      "(Tim, the, Enchanter)\n",
      "(handsome, knight, Sir)\n",
      "(Ni, Ni, Ni)\n",
      "(chanting, Pie, Iesu)\n",
      "(Round, Table, The)\n",
      "(newt, newt, got)\n",
      "(witch, bonk, witch)\n",
      "(Ay, up, Thsss)\n",
      "(Shh, Shh, Shh)\n",
      "(French, persons, taunting)\n",
      "(clop, clop, Wait)\n",
      "(angels, sing, Arthur)\n",
      "(whinny, whinny, They)\n",
      "(place, Aaaaugh, Aaaaugh)\n",
      "(Castle, Aaagh, Our)\n",
      "(Burn, her, Burn)\n",
      "(Nay, Come, Come)\n",
      "(Grail, Seek, you)\n",
      "(carved, in, mystic)\n",
      "(Round, Table, Our)\n",
      "(the, Britons, defeator)\n",
      "(Ni, Ni, Shh)\n",
      "(Haw, Haw, haw)\n",
      "(Who, Til, Recently)\n",
      "(clank, twong, Run)\n",
      "(stab, Aagh, Oh)\n",
      "(repressed, Bloody, peasant)\n",
      "(Run, along, Pull)\n",
      "(strongest, castle, in)\n",
      "(the, Round, Table)\n",
      "(Quiet, Quiet, There)\n",
      "(giggle, giggle, giggle)\n",
      "(Sir, Robin, Shut)\n",
      "(Ooh, King, Arthur)\n",
      "(blow, thine, enemies)\n",
      "(did, Aaaah, slash)\n",
      "(sweet, Concorde, um)\n",
      "(Round, Table, am)\n",
      "(minstrels, high, pitched)\n",
      "(Hm, Hmm, mumble)\n",
      "(clack, Picture, for)\n",
      "(Thee, that, Thou)\n",
      "(hiyaah, etc, chops)\n",
      "(by, Divine, Providence)\n",
      "(rejoicing, Yay, Yay)\n",
      "(requiem, bonk, Pie)\n",
      "(shrubbery, dramatic, chord)\n",
      "(heh, ho, Heh)\n",
      "(Arthur, discovers, a)\n",
      "(water, clank, scribble)\n",
      "(sir, Three, angels)\n",
      "(Ohh, Ni, Ni)\n",
      "(Hold, it, Hold)\n",
      "(duck, Oooh, Exactly)\n",
      "(dona, eis, requiem)\n",
      "(aunties, you, cheesy)\n",
      "(thud, thud, King)\n",
      "(Quoi, Fetchez, la)\n",
      "(resumes, Launcelot, Launcelot)\n",
      "(clop, clop, whinny)\n",
      "(zoo, owli, zhiv)\n",
      "(boom, pweeng, boom)\n",
      "(Eternal, Peril, which)\n",
      "(wind, howl, howl)\n",
      "(medieval, hall, tap)\n",
      "(liege, Stand, by)\n",
      "(Holy, Hand, Grenade)\n",
      "(clop, clop, clop)\n",
      "(zhiv, Ni, Therefore)\n",
      "(gentle, Sir, Knight)\n",
      "(Yes, Zoot, Prepare)\n",
      "(mumble, mumble, boom)\n",
      "(heh, heeh, ooh)\n",
      "(ecky, ecky, ecky)\n",
      "(Oh, Oooo, trumpets)\n",
      "(right, howl, clop)\n",
      "(humble, servant, Sir)\n",
      "(Heh, hee, ha)\n",
      "(clop, clop, Halt)\n",
      "(Sir, Launcelot, Hurry)\n",
      "(va, Bon, magne)\n",
      "(impeccable, We, dine)\n",
      "(Un, cadeau, What)\n",
      "(witch, witch, chanting)\n",
      "(boom, roar, Shh)\n",
      "(Aaaugh, Augh, Ohh)\n",
      "(shalt, thou, count)\n",
      "(Holy, Hand, Grenade)\n",
      "(of, Antioch, Tis)\n",
      "(Aaaugh, Aaaugh, Augh)\n",
      "(Quite, indefatigable, Between)\n",
      "(ponds, distributing, swords)\n",
      "(anyway, clop, clop)\n",
      "(English, k, nnniggets)\n",
      "(Picture, for, Schools)\n",
      "(Ni, Ni, Are)\n",
      "(Iesu, domine, Wayy)\n",
      "(Greetings, Tim, the)\n",
      "(Brother, Maynard, Bring)\n",
      "(Arthur, music, Ooh)\n",
      "(castle, of, Camelot)\n",
      "(hee, hee, hee)\n",
      "(Camelot, Camelot, It)\n",
      "(aptly, named, Sir)\n",
      "(dangerous, Sir, Launcelot)\n",
      "(howl, howl, boom)\n",
      "(Monsieur, Arthur, King)\n",
      "(Say, Ni, Aggh)\n",
      "(domine, Wayy, splash)\n",
      "(k, nnniggets, Thpppt)\n",
      "(there, clop, clop)\n",
      "(fold, fold, twong)\n",
      "(k, niggets, and)\n",
      "(witch, witch, bonk)\n",
      "(time, Ages, Umhm)\n",
      "(domine, donaeis, requiem)\n",
      "(pweeng, boom, clap)\n",
      "(rewr, rewr, rewr)\n",
      "(Ohh, crash, mumble)\n",
      "(Ohh, Ohh, Burn)\n",
      "(quack, quack, We)\n",
      "(Spring, Mmm, nice)\n",
      "(mumble, mumble, boom)\n",
      "(sight, shall, snuff)\n",
      "(radio, Launcelot, Launcelot)\n",
      "(witches, More, witches)\n",
      "(Charge, Hooray, police)\n",
      "(Say, Ecky, ecky)\n",
      "(mumble, mumble, mumble)\n",
      "(dona, eis, requiem)\n",
      "(haw, Ha, Ha)\n",
      "(Antioch, towards, thy)\n",
      "(Burn, her, Burn)\n",
      "(Burn, her, Burn)\n",
      "(Ahh, Right, Remove)\n",
      "(Charge, mayhem, Hey)\n",
      "(dona, eis, requiem)\n",
      "(Robin, Yes, Brave)\n",
      "(ham, and, jam)\n",
      "(Grail, individually, clop)\n",
      "(witches, burn, pause)\n",
      "(clop, rewr, rewr)\n",
      "(Ni, cough, Nu)\n",
      "(clop, clop, clop)\n",
      "(food, trough, wiper)\n",
      "(self, perpetuating, autocracy)\n",
      "(Autumn, Aah, snap)\n",
      "(Hah, Bloody, weather)\n",
      "(relics, Brother, Maynard)\n",
      "(brained, wipers, of)\n",
      "(Hand, Grenade, of)\n",
      "(Hyy, Hya, Hiyya)\n",
      "(chord, clunk, Jesus)\n",
      "(thud, King, Arthur)\n",
      "(most, twong, baaaa)\n",
      "(dorsal, guiding, feathers)\n",
      "(horn, Hallo, pause)\n",
      "(coconut, tropical, What)\n",
      "(boom, angels, sing)\n",
      "(de, bois, Quoi)\n",
      "(here, squeak, squeak)\n",
      "(Ni, Ni, Ni)\n",
      "(brave, Sir, Knight)\n",
      "(boom, mumble, mumble)\n",
      "(Guy, de, Loimbard)\n",
      "(Ni, Firstly, you)\n",
      "(wind, clop, clop)\n",
      "(mumble, mumble, bells)\n",
      "(mumble, boom, mumble)\n",
      "(Shh, Shh, Then)\n",
      "(the, sacred, relics)\n",
      "(grail, shaped, beacon)\n",
      "(Shh, Shh, Shh)\n",
      "(her, Quiet, Quiet)\n",
      "(disheartened, King, Arthur)\n",
      "(sacred, relics, Brother)\n",
      "(cadeau, Oui, oui)\n",
      "(clop, clop, clop)\n",
      "(Providence, that, Arthur)\n",
      "(clop, clop, Whoa)\n",
      "(mumble, mumble, mumble)\n",
      "(boom, mumble, mumble)\n",
      "(clop, clop, clop)\n",
      "(Hold, it, Hold)\n",
      "(idea, smack, Guards)\n",
      "(castle, and, giggle)\n",
      "(servant, Sir, Launcelot)\n",
      "(Burn, Burn, Burn)\n",
      "(Burn, her, Quiet)\n",
      "(squeak, squeak, squeak)\n",
      "(That, rabbit, dynamite)\n",
      "(tempered, rodent, you)\n",
      "(Heh, hee, ha)\n",
      "(Said, Ni, Firstly)\n",
      "(k, nnnnniggets, Thpppppt)\n",
      "(but, aaaaaah, Oooh)\n",
      "(praised, Almighty, God)\n",
      "(ho, Heh, heh)\n",
      "(splash, Heh, heh)\n",
      "(Round, Table, You)\n",
      "(thud, clang, Bring)\n",
      "(some, farcical, aquatic)\n",
      "(Uh, gravy, Cherries)\n",
      "(clap, clap, clap)\n",
      "(lobbed, a, scimitar)\n",
      "(Huy, Uuh, Aaah)\n",
      "(Arthur, music, clop)\n",
      "(The, Castle, Aaagh)\n",
      "(Beast, of, Aaauugh)\n",
      "(and, Aaah, hiyaah)\n",
      "(Tim, Quite, pweeng)\n",
      "(Tim, Greetings, Tim)\n",
      "(heh, clack, Picture)\n",
      "(Antioch, Tis, one)\n",
      "(Sir, Robin, rode)\n",
      "(Wayy, twang, whispering)\n",
      "(Iesu, domine, dona)\n",
      "(Knights, of, Camelot)\n",
      "(Behold, angels, sing)\n",
      "(Fetchez, la, vache)\n",
      "(you, gon, na)\n",
      "(trumpets, Hmm, boom)\n",
      "(haw, haw, Haw)\n",
      "(outdated, imperialist, dogma)\n",
      "(Heee, Hoa, crash)\n",
      "(tit, soiled, my)\n",
      "(brave, Sir, Launcelot)\n",
      "(haw, haw, Ha)\n",
      "(that, Thou, hast)\n",
      "(Burn, Burn, Burn)\n",
      "(rewr, rewr, rewr)\n",
      "(never, chanting, Pie)\n",
      "(scribble, scribble, scribble)\n",
      "(dead, clang, Bring)\n",
      "(Quiet, Quiet, Quiet)\n",
      "(lads, Heh, Looks)\n",
      "(in, thy, mercy)\n",
      "(Hand, Grenade, Yes)\n",
      "(persons, taunting, Dappy)\n",
      "(Launcelot, Launcelot, angels)\n",
      "(its, wings, forty)\n",
      "(suggesting, coconuts, migrate)\n",
      "(fwump, Concorde, Concorde)\n",
      "(clunk, crash, clang)\n",
      "(rrrr, rrrr, rrrr)\n",
      "(Burn, Burn, her)\n",
      "(sing, Arthur, Arthur)\n",
      "(clop, clop, And)\n",
      "(that, Saint, Ives)\n",
      "(Bon, magne, Over)\n",
      "(gallantly, he, chickened)\n",
      "(Gorge, of, Eternal)\n",
      "(mumble, mumble, mumble)\n",
      "(late, dramatic, chord)\n",
      "(Sir, Knight, afraid)\n",
      "(heh, chanting, dona)\n",
      "(Iesu, domine, dona)\n",
      "(Launcelot, of, Camelot)\n",
      "(trough, wiper, fart)\n",
      "(cave, Tim, Follow)\n",
      "(bonk, dona, eis)\n",
      "(eight, wedding, guests)\n",
      "(clang, Aaaaaaaah, chops)\n",
      "(glory, of, splat)\n",
      "(clop, clop, boom)\n",
      "(Saint, Iiiives, Iiiiives)\n",
      "(Sir, Robin, rode)\n",
      "(Father, lad, Father)\n",
      "(Aaaugh, dramatic, chord)\n",
      "(clop, clop, Ooh)\n",
      "(with, witches, Burn)\n",
      "(un, lapin, lapin)\n",
      "(syndicalist, commune, We)\n",
      "(dappy, English, k)\n",
      "(clunk, creak, witch)\n",
      "(floats, It, floats)\n",
      "(of, Olfin, Bedwere)\n",
      "(you, pansy, clang)\n",
      "(Ni, Ni, Who)\n",
      "(rabbit, Ohh, That)\n",
      "(squeak, squeak, squeak)\n",
      "(boom, angels, singing)\n",
      "(Burn, her, Burn)\n",
      "(Iesu, domine, dona)\n",
      "(Lake, angels, sing)\n",
      "(clop, clop, clop)\n",
      "(Bedevere, Explain, again)\n",
      "(chanting, Pie, Iesu)\n",
      "(utterly, disheartened, King)\n",
      "(domine, dona, eis)\n",
      "(clop, Halt, Who)\n",
      "(squeak, thump, squeak)\n",
      "(Consult, the, Book)\n",
      "(auuuuuuuugh, Hee, hee)\n",
      "(Oh, wicked, wicked)\n",
      "(bi, weekly, Yes)\n",
      "(mumble, mumble, boom)\n",
      "(dona, eisrequiem, How)\n",
      "(pansy, clang, Huyah)\n",
      "(Haw, haw, heh)\n",
      "(clop, clop, Who)\n",
      "(faced, bugger, folk)\n",
      "(wherein, carved, in)\n",
      "(Quickly, sir, singing)\n",
      "(Til, Recently, Said)\n",
      "(Holy, Grail, returns)\n",
      "(vicious, streak, a)\n",
      "(hoo, Ohh, ha)\n",
      "(smack, Guards, Make)\n",
      "(Ni, Ni, No)\n",
      "(mumble, mumble, boom)\n",
      "(ways, Sir, Robin)\n",
      "(clop, clop, clop)\n",
      "(squeak, Aaaaugh, Aaaugh)\n",
      "(Gawain, Ector, And)\n",
      "(King, Arthur, sir)\n",
      "(boom, Hm, Hmm)\n",
      "(sponge, Sir, Robin)\n",
      "(model, Shh, Knights)\n",
      "(pond, Throw, her)\n",
      "(Ni, Shh, Shh)\n",
      "(Galahad, boom, wind)\n",
      "(Sir, Knight, Welcome)\n",
      "(Alright, Hic, Right)\n",
      "(mystic, runes, upon)\n",
      "(the, Round, Table)\n",
      "(Sir, Bedevere, Explain)\n",
      "(been, mortally, wounded)\n",
      "(Round, Table, shall)\n",
      "(requiem, Pie, Iesu)\n",
      "(squeak, Aaaugh, dramatic)\n",
      "(chord, roar, It)\n",
      "(Saint, Attila, raised)\n",
      "(brave, Sir, Robin)\n",
      "(that, Oooh, splat)\n",
      "(mumble, mumble, boom)\n",
      "(footwork, impeccable, We)\n",
      "(mumble, boom, mumble)\n",
      "(wood, alive, Knights)\n",
      "(Britons, Who, castle)\n",
      "(domine, bonk, dona)\n",
      "(bad, naughty, Zoot)\n",
      "(Iesu, domine, bonk)\n",
      "(Ninepence, clang, Bring)\n",
      "(angels, sing, Arthur)\n",
      "(passed, shivering, Winter)\n",
      "(dona, eis, requiem)\n",
      "(longer, Sir, Galahad)\n",
      "(Launcelot, Galahad, and)\n",
      "(chord, what, Ni)\n",
      "(the, vicious, Chicken)\n",
      "(dramatic, chord, clunk)\n",
      "(lies, singing, Bravest)\n",
      "(valiant, knight, shall)\n",
      "(of, wherein, carved)\n",
      "(soiled, my, armor)\n",
      "(Burn, her, Burn)\n",
      "(samite, held, aloft)\n",
      "(ceremony, Be, quiet)\n",
      "(Aaaah, slash, kills)\n",
      "(Knights, of, Ni)\n",
      "(mumble, boom, mumble)\n",
      "(etc, Aaaaaah, Aaaaaaaaah)\n",
      "(Winston, Practice, your)\n",
      "(Ow, Ow, Ow)\n",
      "(Ni, and, Ni)\n",
      "(aside, worthy, adversary)\n",
      "(trusty, servant, Patsy)\n",
      "(Hya, Hiyya, Ha)\n",
      "(Aaaaaaaah, chops, the)\n",
      "(sacred, quest, If)\n",
      "(splat, laughing, Agh)\n",
      "(clop, clop, Now)\n",
      "(Aaaaugh, Aaaaugh, Stop)\n",
      "(Ector, And, Bors)\n",
      "(eis, requiem, bonk)\n",
      "(Shh, Ni, Ni)\n",
      "(Doctor, Piglet, Doctor)\n",
      "(the, dorsal, guiding)\n",
      "(squeak, squeak, squeak)\n",
      "(taunting, Dappy, Today)\n",
      "(boom, wind, howl)\n",
      "(Galahad, the, Chaste)\n",
      "(clop, Ooh, said)\n",
      "(thud, Ah, Ohh)\n",
      "(squeak, squeak, squeak)\n",
      "(mumble, mumble, boom)\n",
      "(The, coconut, tropical)\n",
      "(bells, Hah, Bloody)\n",
      "(domine, dona, eis)\n",
      "(of, Eternal, Peril)\n",
      "(particular, sigh, Idiom)\n",
      "(Burn, Burn, her)\n",
      "(Oooo, trumpets, The)\n",
      "(Pie, Iesu, domine)\n",
      "(Burn, her, Burn)\n",
      "(wings, forty, three)\n",
      "(advancing, behaviour, wave)\n",
      "(Saint, Aauuuves, in)\n",
      "(Princess, Lucky, so)\n",
      "(bang, rewr, squeak)\n",
      "(spanking, spanking, spanking)\n",
      "(rabbit, stew, comin)\n",
      "(Ni, Ohh, Ni)\n",
      "(awaaay, Run, awaaaaay)\n",
      "(crash, Hoo, singing)\n",
      "(Silence, foul, temptress)\n",
      "(imperialist, dogma, which)\n",
      "(carry, Excalibur, singing)\n",
      "(medieval, hall, singing)\n",
      "(bathing, dressing, undressing)\n",
      "(Dramatically, sir, Dramatically)\n",
      "(requiem, witch, witch)\n",
      "(influential, knight, and)\n",
      "(Hooray, police, siren)\n",
      "(Hee, hee, hee)\n",
      "(aaaaaah, Oooh, My)\n",
      "(heh, heh, chanting)\n",
      "(woods, Ni, Ni)\n",
      "(squeak, squeak, squeak)\n",
      "(domine, witch, witch)\n",
      "(Chicken, of, Bristol)\n",
      "(Winter, gave, Spring)\n",
      "(Aah, Hiyah, Aah)\n",
      "(clang, Huyah, clang)\n",
      "(scrape, Umm, clop)\n",
      "(van, Clear, off)\n",
      "(oui, Hurry, What)\n",
      "(Greetings, King, Arthur)\n",
      "(Mud, Churches, Churches)\n",
      "(Hurry, Sir, Launcelot)\n",
      "(Thppppt, taunting, Fiends)\n",
      "(Saint, Ives, Oh)\n",
      "(Allo, dappy, English)\n",
      "(Arthur, music, clop)\n",
      "(squeak, squeak, creak)\n",
      "(crash, mumble, mumble)\n",
      "(duck, quack, quack)\n",
      "(squeak, Ooh, Come)\n",
      "(Camelot, Camelot, Camelot)\n",
      "(traveller, five, Three)\n",
      "(aquatic, ceremony, Be)\n",
      "(squeak, squeak, squeak)\n",
      "(ni, Nu, No)\n",
      "(French, fellows, outwit)\n",
      "(binding, sense, clap)\n",
      "(of, Eternal, Peril)\n",
      "(and, giggle, giggle)\n",
      "(of, Ewing, accompanied)\n",
      "(Come, Patsy, None)\n",
      "(Arthur, The, ferocity)\n",
      "(The, pond, Throw)\n",
      "(uuggggggh, Aauuggghhh, Aaauggh)\n",
      "(No, auuuuuuuugh, Hee)\n",
      "(eat, Robin, minstrels)\n",
      "(vache, Quoi, Fetchez)\n",
      "(awhile, Midget, Crapper)\n",
      "(away, Thppppt, taunting)\n",
      "(Tall, Tower, of)\n",
      "(Thy, Hah, clunk)\n",
      "(wayy, twang, splash)\n",
      "(mumble, mumble, mumble)\n",
      "(Zoot, Just, Zoot)\n",
      "(Shut, uuup, singing)\n",
      "(my, liege, Stand)\n",
      "(on, Bors, Chop)\n",
      "(Chicken, kick, Chickennn)\n",
      "(Mercea, The, coconut)\n",
      "(ha, Heh, hee)\n",
      "(to, carve, aaggggh)\n",
      "(Nine, to, Twenty)\n",
      "(Holy, Grail, Brave)\n",
      "(Launcelot, Launcelot, Launcelot)\n",
      "(dungeon, clap, clap)\n",
      "(Ni, Ni, Ni)\n",
      "(clunk, bang, rewr)\n",
      "(twin, sister, Dingo)\n",
      "(whop, chops, the)\n",
      "(ni, Agh, Do)\n",
      "(squeak, squeak, rrrr)\n",
      "(Knights, of, Ni)\n",
      "(Ni, Ni, Ni)\n",
      "(Gorge, of, Eternal)\n",
      "(mount, Behold, the)\n",
      "(thou, shalt, count)\n",
      "(bonk, witch, witch)\n",
      "(Iesu, domine, donaeis)\n",
      "(Hm, Hmm, boom)\n",
      "(thud, Allo, dappy)\n",
      "(Midget, Crapper, and)\n",
      "(kills, thud, scrape)\n",
      "(spanking, spanking, You)\n",
      "(Charge, Charge, mayhem)\n",
      "(requiem, Pie, Iesu)\n",
      "(her, Burn, Burn)\n",
      "(hee, hee, Ha)\n",
      "(to, handsome, knights)\n",
      "(impersonate, Clark, Gable)\n",
      "(roar, Aagh, As)\n",
      "(Old, crone, rewr)\n",
      "(rrrr, rrrr, drilllll)\n",
      "(my, liege, trumpets)\n",
      "(brave, Sir, Robin)\n",
      "(whispering, un, lapin)\n",
      "(dead, clang, Bring)\n",
      "(it, Ohh, Aaaaugh)\n",
      "(Chapter, Two, verses)\n",
      "(mumble, boom, mumble)\n",
      "(Ni, Ni, Ni)\n",
      "(Run, awaaay, Run)\n",
      "(Bloody, peasant, Oh)\n",
      "(of, Armaments, Armaments)\n",
      "(Robin, never, chanting)\n",
      "(clap, clap, clap)\n",
      "(You, mangy, scots)\n",
      "(and, Neee, wom)\n",
      "(special, bi, weekly)\n",
      "(haw, haw, haw)\n",
      "(sweet, Concorde, Stay)\n",
      "(vests, and, impersonate)\n",
      "(Hiyya, Hey, Hiyya)\n",
      "(Burn, Burn, them)\n",
      "(adversary, Tis, but)\n",
      "(ordinary, rabbit, Ohh)\n",
      "(Oh, Knights, Forward)\n",
      "(English, k, niggets)\n",
      "(clap, clap, clap)\n",
      "(Launcelot, Launcelot, Launcelot)\n",
      "(sense, clap, clap)\n",
      "(ruffians, can, ni)\n",
      "(Sir, Robin, brave)\n",
      "(First, shalt, thou)\n",
      "(Yay, Yay, woosh)\n",
      "(ways, Brave, brave)\n",
      "(clop, clop, You)\n",
      "(Ni, Ni, Ni)\n",
      "(Britons, your, Knights)\n",
      "(Nu, No, ni)\n",
      "(this, Aah, Hiyah)\n",
      "(his, bowels, unplugged)\n",
      "(work, afoot, Anarcho)\n",
      "(Lead, duck, Oooh)\n",
      "(Away, away, varletesses)\n",
      "(It, floats, Throw)\n",
      "(Aaagh, Our, quest)\n",
      "(Knights, of, Ni)\n",
      "(castle, Morning, Morning)\n",
      "(saved, Sir, Galahad)\n",
      "(Sir, Launcelot, sir)\n",
      "(howl, clop, clop)\n",
      "(sacred, castle, No)\n",
      "(Hiyah, Aah, Aaah)\n",
      "(Burn, her, Burn)\n",
      "(Tower, you, creep)\n",
      "(Iiiiives, Oooohoohohooo, No)\n",
      "(lapin, de, bois)\n",
      "(Ni, Shh, Shh)\n",
      "(shrubberies, Ni, No)\n",
      "(boom, Thsss, boom)\n",
      "(thy, mercy, And)\n",
      "(Dis, mount, Behold)\n",
      "(clop, clop, music)\n",
      "(Prince, Oooh, The)\n",
      "(Iesu, domine, witch)\n",
      "(clop, clop, clop)\n",
      "(drilllll, sawwwww, clunk)\n",
      "(Ni, Ni, and)\n",
      "(wom, Neee, wom)\n",
      "(haw, haw, haw)\n",
      "(Concorde, thwonk, Message)\n",
      "(eis, requiem, Wayy)\n",
      "(domine, bonk, dona)\n",
      "(in, mystic, runes)\n",
      "(Beast, of, Aaauugh)\n",
      "(the, Castle, Anthrax)\n",
      "(your, kingdom, lad)\n",
      "(Launcelot, Launcelot, police)\n",
      "(held, aloft, Excalibur)\n",
      "(liege, Then, dub)\n",
      "(Ni, Peng, and)\n",
      "(Wayy, splash, Ho)\n",
      "(thud, thud, thud)\n",
      "(questions, Sir, Robin)\n",
      "(identical, twin, sister)\n",
      "(you, Splendid, Aah)\n",
      "(ho, Woa, wayy)\n",
      "(ratios, five, ounce)\n",
      "(clop, Halt, horn)\n",
      "(squeak, squeak, squeak)\n",
      "(Peng, and, Neee)\n",
      "(sigh, Idiom, sir)\n",
      "(vicious, Chicken, of)\n",
      "(the, Round, Table)\n",
      "(and, giggle, giggle)\n",
      "(then, whop, chops)\n",
      "(twang, whispering, Forgive)\n",
      "(Nay, Nay, Come)\n",
      "(Ni, and, Ow)\n",
      "(of, Uther, Pendragon)\n",
      "(rocks, Cider, Uh)\n",
      "(the, Round, Table)\n",
      "(music, clop, clop)\n",
      "(laden, swallows, flights)\n",
      "(mud, Halt, Who)\n",
      "(Pie, Iesu, domine)\n",
      "(rewr, rewr, rewr)\n",
      "(Castle, Anthrax, Yes)\n",
      "(largest, scales, Ohh)\n",
      "(Anthrax, The, Castle)\n",
      "(brave, Sir, Robin)\n",
      "(verses, Nine, to)\n",
      "(whispering, Forgive, me)\n",
      "(warmer, climes, in)\n",
      "(creak, witch, witch)\n",
      "(dona, eis, requiem)\n",
      "(dogma, which, perpetuates)\n",
      "(Churches, Churches, Lead)\n",
      "(sloths, and, carp)\n",
      "(the, Shrubber, arrange)\n",
      "(giggle, giggle, giggle)\n",
      "(Sir, Knight, pause)\n",
      "(howl, boom, pound)\n",
      "(chorus, scenes, With)\n",
      "(my, liege, Consult)\n",
      "(done, Aaaugh, Aaaugh)\n",
      "(Sir, Robin, ran)\n",
      "(Shrubber, arrange, design)\n",
      "(hee, hee, ha)\n",
      "(gon, na, get)\n",
      "(Hallo, pause, Hallo)\n",
      "(Say, Ni, Ni)\n",
      "(wise, Sir, Bedevere)\n",
      "(Ni, Ni, Ni)\n",
      "(squeak, boom, Hello)\n",
      "(Castle, Anthrax, we)\n",
      "(wetting, types, burst)\n",
      "(Brave, Sir, Gallahad)\n",
      "(requiem, Wayy, twang)\n",
      "(Burn, her, Burn)\n",
      "(shrubbery, Ni, Then)\n",
      "(Table, My, liege)\n",
      "(eis, requiem, bonk)\n",
      "(uh, Launcelot, Galahad)\n",
      "(stops, Aaagh, Ooh)\n",
      "(Arthur, the, quest)\n",
      "(squeak, squeak, squeak)\n",
      "(Shh, Wood, So)\n",
      "(wooden, clank, twong)\n",
      "(scales, Ohh, Ohh)\n",
      "(Bedwere, of, Rheged)\n",
      "(it, clop, clop)\n",
      "(stops, Ni, Ni)\n",
      "(Uther, Pendragon, from)\n",
      "(foot, Dis, mount)\n",
      "(squeak, squeak, squeak)\n",
      "(Pin, Then, shalt)\n",
      "(No, shrubberies, Ni)\n",
      "(Round, Table, Who)\n",
      "(howl, boom, howl)\n",
      "(With, footwork, impeccable)\n",
      "(Ni, Ni, Ow)\n",
      "(in, dungeon, clap)\n",
      "(stops, intermission, suspenseful)\n",
      "(owli, zhiv, Ni)\n",
      "(Say, Ni, Ni)\n",
      "(Sir, Galahad, boom)\n",
      "(boing, goodem, zoo)\n",
      "(Right, Charge, Charge)\n",
      "(rewr, rewr, Old)\n",
      "(Supposing, two, swallows)\n",
      "(Bread, Apples, Uh)\n",
      "(routines, and, chorus)\n",
      "(Launcelot, Galahad, and)\n",
      "(Ni, Ni, Shh)\n",
      "(Hiyaah, clang, Aaaaaaaah)\n",
      "(sir, Dramatically, singing)\n",
      "(clang, and, Agh)\n",
      "(we, sequin, vests)\n",
      "(a, valiant, knight)\n",
      "(Farewell, sweet, Concorde)\n",
      "(Cherries, Mud, Churches)\n",
      "(Halt, horn, Hallo)\n",
      "(Quite, pweeng, boom)\n",
      "(Ni, Aggh, No)\n",
      "(nnniggets, Thpppt, taunting)\n",
      "(Burn, her, Burn)\n",
      "(squeak, clllank, What)\n",
      "(sworn, to, chastity)\n",
      "(Arthur, music, clop)\n",
      "(a, newt, newt)\n",
      "(Ow, Agh, We)\n",
      "(chanting, dona, eis)\n",
      "(coconuts, migrate, Not)\n",
      "(no, Charge, squeak)\n",
      "(requiem, Heh, heh)\n",
      "(him, roar, Aagh)\n",
      "(singing, stops, ethereal)\n",
      "(Aaaaugh, Aaaugh, etc)\n",
      "(dead, clang, Bring)\n",
      "(Silly, little, bleeder)\n",
      "(Aaagh, Ooh, King)\n",
      "(Thou, hast, vouchsafed)\n",
      "(Knights, Forward, boom)\n",
      "(gone, illegitimate, faced)\n",
      "(Hurry, Sir, Launcelot)\n",
      "(hidden, Tim, Quite)\n",
      "(Swamp, Castle, At)\n",
      "(Knights, Knights, Who)\n",
      "(aloft, Excalibur, from)\n",
      "(not, thud, clang)\n",
      "(Table, clop, clop)\n",
      "(boom, mumble, mumble)\n",
      "(approacheth, the, Bridge)\n",
      "(Ha, haw, haw)\n",
      "(mortally, wounded, in)\n",
      "(afoot, Anarcho, syndicalism)\n",
      "(squeak, creak, whispering)\n",
      "(land, Listen, Herbert)\n",
      "(hast, vouchsafed, to)\n",
      "(Pie, Iesu, domine)\n",
      "(shrubberies, Ni, cough)\n",
      "(clop, clop, clop)\n",
      "(The, Castle, Anthrax)\n",
      "(twang, chanting, Pie)\n",
      "(uh, Launcelot, Galahad)\n",
      "(another, shrubbery, Ni)\n",
      "(Sir, Launcelot, Uh)\n",
      "(large, wooden, clank)\n",
      "(Oh, haw, haw)\n",
      "(anarcho, syndicalist, commune)\n",
      "(music, clop, clop)\n",
      "(eis, requiem, Heh)\n",
      "(Robin, rode, forth)\n",
      "(Bedevere, Knight, of)\n",
      "(Hallo, Allo, Who)\n",
      "(crash, clang, squeak)\n",
      "(Idiom, sir, Idiom)\n",
      "(Hee, hee, heh)\n",
      "(Galahad, of, Camelot)\n",
      "(Listen, lad, built)\n",
      "(sell, shrubberies, Ni)\n",
      "(water, Bread, Apples)\n",
      "(Shh, Knights, bid)\n",
      "(woosh, Oooh, afraid)\n",
      "(Agh, Ni, Ni)\n",
      "(Iesu, domine, bonk)\n",
      "(Eternal, Peril, Oh)\n",
      "(Robin, minstrels, high)\n",
      "(Dragon, of, Angnor)\n",
      "(Robin, rode, north)\n",
      "(Thpppt, taunting, We)\n",
      "(shrubbery, dramatic, chord)\n",
      "(squeak, squeak, Aaaaugh)\n",
      "(Follow, But, Follow)\n",
      "(Olfin, Bedwere, of)\n",
      "(mumble, boom, mumble)\n",
      "(bravest, knights, in)\n",
      "(Iesu, domine, dona)\n",
      "(dona, eis, requiem)\n",
      "(nearer, the, Grail)\n",
      "(that, Brother, Maynard)\n",
      "(Neee, wom, Neee)\n",
      "(Shh, Shh, Shh)\n",
      "(smelt, of, elderberries)\n",
      "(squeak, squeak, squeak)\n",
      "(Doctor, Winston, Practice)\n",
      "(Armaments, Armaments, Chapter)\n",
      "(Sir, Robin, turned)\n",
      "(Aaagh, King, Arthur)\n",
      "(Ages, Umhm, uh)\n",
      "(Launcelot, and, Galahad)\n",
      "(King, Arthur, knights)\n",
      "(angels, sing, boom)\n",
      "(Lead, Lead, duck)\n",
      "(squeak, squeak, squeak)\n",
      "(Enchanter, Greetings, King)\n",
      "(sir, fwump, Concorde)\n",
      "(towards, thy, foe)\n",
      "(Robin, My, liege)\n",
      "(the, Round, Table)\n",
      "(lose, Gawain, Ector)\n",
      "(clop, boom, boom)\n",
      "(Right, whop, chops)\n",
      "(Holy, Grail, boom)\n",
      "(Iesu, domine, dona)\n",
      "(purest, shimmering, samite)\n",
      "(clap, clap, clap)\n",
      "(bold, Sir, Robin)\n",
      "(boom, mumble, mumble)\n",
      "(wicked, bad, naughty)\n",
      "(praised, King, Arthur)\n",
      "(bowels, unplugged, And)\n",
      "(brave, Sir, Robin)\n",
      "(good, spanking, spanking)\n",
      "(slash, kills, Frank)\n",
      "(Hoo, hoo, Ohh)\n",
      "(splash, Ho, ho)\n",
      "(dona, eis, requiem)\n",
      "(sequin, vests, and)\n",
      "(rrrr, drilllll, sawwwww)\n",
      "(unladen, swallow, flight)\n",
      "(Aah, Aaah, Hyy)\n",
      "(twang, splash, Heh)\n",
      "(wicked, bad, naughty)\n",
      "(Robin, of, Camelot)\n",
      "(holy, wedlock, Unfortunately)\n",
      "(of, Arimathea, Course)\n",
      "(Hold, it, Hold)\n",
      "(Grail, Oh, wicked)\n",
      "(distributing, swords, is)\n",
      "(wonderful, escape, Excuse)\n",
      "(chanting, Pie, Iesu)\n",
      "(clop, clop, clop)\n",
      "(lad, Father, but)\n",
      "(na, get, lad)\n",
      "(guiding, feathers, Well)\n",
      "(and, Monsieur, Arthur)\n",
      "(Shh, Shh, Shh)\n",
      "(goodem, zoo, owli)\n",
      "(Holy, Hand, Grenade)\n",
      "(Just, uuggggggh, Aauuggghhh)\n",
      "(hee, hee, hee)\n",
      "(Bravely, bold, Sir)\n",
      "(watery, tart, threw)\n",
      "(Burn, her, Burn)\n",
      "(Ni, Ow, Ow)\n",
      "(spanking, spanking, There)\n",
      "(mumble, mumble, mumble)\n",
      "(Forward, boom, boom)\n",
      "(God, Hoo, hoo)\n",
      "(stops, blessing, blessing)\n",
      "(Brave, brave, brave)\n",
      "(the, bravest, knights)\n",
      "(boom, mumble, mumble)\n",
      "(domine, dona, eis)\n",
      "(ha, hee, hee)\n",
      "(near, fatal, wounding)\n",
      "(boom, mumble, mumble)\n",
      "(supports, whop, clunk)\n",
      "(Burn, her, Burn)\n",
      "(Cider, Uh, gravy)\n",
      "(howl, boom, angels)\n",
      "(Castle, of, uuggggggh)\n",
      "(oooh, Heh, hee)\n",
      "(clang, squeak, squeak)\n",
      "(nibble, your, bum)\n",
      "(sacred, castle, to)\n",
      "(Burn, her, Burn)\n",
      "(Holy, Grail, singing)\n",
      "(Britons, pause, seek)\n",
      "(Ow, Ow, Agh)\n",
      "(varletesses, The, beds)\n",
      "(squeak, squeak, squeak)\n",
      "(daft, me, havin)\n"
     ]
    }
   ],
   "source": [
    "for gram in grailGrams: \n",
    "    if sum([word.prob for word in gram]) < -40: \n",
    "        print(gram)"
   ]
  },
  {
   "cell_type": "markdown",
   "metadata": {
    "slideshow": {
     "slide_type": "slide"
    }
   },
   "source": [
    "# Word Embeddings (Word Vectors)\n",
    "\n",
    "Word embeddings (word vectors) are numeric representations of words, usually generated via dimensionality reduction on a word cooccurrence matrix for a large corpus. The vectors SpaCy uses are the [GloVe](http://nlp.stanford.edu/projects/glove/) vectors, Stanford's Global Vectors for Word Representation. These vectors can be used to calculate semantic similarity between words and documents."
   ]
  },
  {
   "cell_type": "markdown",
   "metadata": {
    "slideshow": {
     "slide_type": "fragment"
    }
   },
   "source": [
    "<h2>This example of course relies on a fundamental linguistic assumption: that words appearing in similar contexts are related to each other semantically. This is called the distributional hypothesis.</h2>"
   ]
  },
  {
   "cell_type": "markdown",
   "metadata": {
    "slideshow": {
     "slide_type": "subslide"
    }
   },
   "source": [
    "<img src=\"./media/word2vec-one-hot.png\">"
   ]
  },
  {
   "cell_type": "markdown",
   "metadata": {
    "slideshow": {
     "slide_type": "subslide"
    }
   },
   "source": [
    "<img src=\"./media/word2vec-distributed-representation.png\">"
   ]
  },
  {
   "cell_type": "markdown",
   "metadata": {
    "slideshow": {
     "slide_type": "subslide"
    }
   },
   "source": [
    "Suppose we are building a language model. Suppose we have seen the sentences  \n",
    "* The mathematician ran to the store.\n",
    "* The physicist ran to the store.\n",
    "* The mathematician solved the open problem."
   ]
  },
  {
   "cell_type": "markdown",
   "metadata": {
    "slideshow": {
     "slide_type": "fragment"
    }
   },
   "source": [
    "How could we actually encode semantic similarity in words? "
   ]
  },
  {
   "cell_type": "markdown",
   "metadata": {
    "slideshow": {
     "slide_type": "fragment"
    }
   },
   "source": [
    "$$q_\\text{mathematician} = \\left[ \\overbrace{2.3}^\\text{can run},\n",
    "\\overbrace{9.4}^\\text{likes coffee}, \\overbrace{-5.5}^\\text{majored in Physics}, \\dots \\right]$$"
   ]
  },
  {
   "cell_type": "markdown",
   "metadata": {
    "slideshow": {
     "slide_type": "fragment"
    }
   },
   "source": [
    "$$q_\\text{physicist} = \\left[ \\overbrace{2.5}^\\text{can run},\n",
    "\\overbrace{9.1}^\\text{likes coffee}, \\overbrace{6.4}^\\text{majored in Physics}, \\dots \\right]$$"
   ]
  },
  {
   "cell_type": "markdown",
   "metadata": {
    "slideshow": {
     "slide_type": "subslide"
    }
   },
   "source": [
    "$$\\text{Similarity}(\\text{physicist}, \\text{mathematician}) = q_\\text{physicist} \\cdot q_\\text{mathematician}$$"
   ]
  },
  {
   "cell_type": "markdown",
   "metadata": {
    "slideshow": {
     "slide_type": "fragment"
    }
   },
   "source": [
    "$$\\text{Similarity}(\\text{physicist}, \\text{mathematician}) = \\frac{q_\\text{physicist} \\cdot q_\\text{mathematician}}\n",
    "{\\| q_\\text{\\physicist} \\| \\| q_\\text{mathematician} \\|} = \\cos (\\phi)$$"
   ]
  },
  {
   "cell_type": "code",
   "execution_count": 56,
   "metadata": {
    "collapsed": true,
    "slideshow": {
     "slide_type": "subslide"
    }
   },
   "outputs": [],
   "source": [
    "coconut, africanSwallow, europeanSwallow, horse = nlp('coconut'), nlp('African Swallow'), nlp('European Swallow'), nlp('horse')"
   ]
  },
  {
   "cell_type": "code",
   "execution_count": 57,
   "metadata": {
    "slideshow": {
     "slide_type": "fragment"
    }
   },
   "outputs": [
    {
     "data": {
      "text/plain": [
       "0.15660883152130853"
      ]
     },
     "execution_count": 57,
     "metadata": {},
     "output_type": "execute_result"
    }
   ],
   "source": [
    "coconut.similarity(horse)"
   ]
  },
  {
   "cell_type": "code",
   "execution_count": 58,
   "metadata": {
    "slideshow": {
     "slide_type": "fragment"
    }
   },
   "outputs": [
    {
     "data": {
      "text/plain": [
       "0.26844617497630374"
      ]
     },
     "execution_count": 58,
     "metadata": {},
     "output_type": "execute_result"
    }
   ],
   "source": [
    "africanSwallow.similarity(horse)"
   ]
  },
  {
   "cell_type": "code",
   "execution_count": 59,
   "metadata": {
    "slideshow": {
     "slide_type": "fragment"
    }
   },
   "outputs": [
    {
     "data": {
      "text/plain": [
       "0.99999999024565156"
      ]
     },
     "execution_count": 59,
     "metadata": {},
     "output_type": "execute_result"
    }
   ],
   "source": [
    "africanSwallow.similarity(europeanSwallow)"
   ]
  },
  {
   "cell_type": "markdown",
   "metadata": {
    "slideshow": {
     "slide_type": "slide"
    }
   },
   "source": [
    "<h2>Let's look at vectors for _Pride and Prejudice_. First, let's get the first 150 nouns:</h2>"
   ]
  },
  {
   "cell_type": "code",
   "execution_count": 24,
   "metadata": {
    "collapsed": true,
    "slideshow": {
     "slide_type": "fragment"
    }
   },
   "outputs": [],
   "source": [
    "prideNouns = [word for word in pride if word.pos_.startswith('N')][:150]"
   ]
  },
  {
   "cell_type": "markdown",
   "metadata": {
    "slideshow": {
     "slide_type": "fragment"
    }
   },
   "source": [
    "Now let's get vectors and labels for each of them: "
   ]
  },
  {
   "cell_type": "code",
   "execution_count": 25,
   "metadata": {
    "collapsed": true,
    "slideshow": {
     "slide_type": "fragment"
    }
   },
   "outputs": [],
   "source": [
    "prideNounVecs = [word.vector for word in prideNouns]\n",
    "prideNounLabels = [word.string.strip() for word in prideNouns]"
   ]
  },
  {
   "cell_type": "code",
   "execution_count": 26,
   "metadata": {
    "slideshow": {
     "slide_type": "fragment"
    }
   },
   "outputs": [
    {
     "data": {
      "text/plain": [
       "(300,)"
      ]
     },
     "execution_count": 26,
     "metadata": {},
     "output_type": "execute_result"
    }
   ],
   "source": [
    "prideNounVecs[0].shape"
   ]
  },
  {
   "cell_type": "markdown",
   "metadata": {
    "collapsed": true,
    "slideshow": {
     "slide_type": "subslide"
    }
   },
   "source": [
    "<h3>A single vector is 300-dimensional, so in order to plot it in 2D, it might help to reduce the dimensionality to the most meaningful dimensions. We can use Scikit-Learn to perform truncated singular value decomposition for latent semantic analysis (LSA).</h3>"
   ]
  },
  {
   "cell_type": "code",
   "execution_count": 63,
   "metadata": {
    "collapsed": true,
    "slideshow": {
     "slide_type": "fragment"
    }
   },
   "outputs": [],
   "source": [
    "lsa = TruncatedSVD(n_components=2)\n",
    "lsaOut = lsa.fit_transform(prideNounVecs)"
   ]
  },
  {
   "cell_type": "code",
   "execution_count": 64,
   "metadata": {
    "slideshow": {
     "slide_type": "subslide"
    }
   },
   "outputs": [
    {
     "data": {
      "image/png": "[encoded data removed]",
      "text/plain": [
       "<matplotlib.figure.Figure at 0x14ac3fda0>"
      ]
     },
     "metadata": {},
     "output_type": "display_data"
    }
   ],
   "source": [
    "xs, ys = lsaOut[:,0], lsaOut[:,1]\n",
    "for i in range(len(xs)): \n",
    "    plt.scatter(xs[i], ys[i])\n",
    "    plt.annotate(prideNounLabels[i], (xs[i], ys[i]))"
   ]
  },
  {
   "cell_type": "markdown",
   "metadata": {
    "slideshow": {
     "slide_type": "slide"
    }
   },
   "source": [
    "# Document Vectorization\n",
    "\n",
    "This uses a non-semantic technique for vectorizing documents, just using bag-of-words. We won't need any of the fancy features of SpaCy for this, just scikit-learn. We'll use a subset of the Inaugural Address Corpus that contains 20th and 21st century inaugural addresses. \n",
    "\n",
    "First, we'll vectorize the corpus using scikit-learn's `TfidfVectorizer` class. This creates a matrix of word frequencies. (It doesn't actually use TF-IDF, since we're turning that off in the options below.)"
   ]
  },
  {
   "cell_type": "code",
   "execution_count": 65,
   "metadata": {
    "collapsed": true,
    "slideshow": {
     "slide_type": "fragment"
    }
   },
   "outputs": [],
   "source": [
    "tfidf = TfidfVectorizer(input='filename', decode_error='ignore', use_idf=False)"
   ]
  },
  {
   "cell_type": "code",
   "execution_count": 76,
   "metadata": {
    "collapsed": true,
    "slideshow": {
     "slide_type": "fragment"
    }
   },
   "outputs": [],
   "source": [
    "inauguralFilenames = sorted(glob('inaugural/*'))\n",
    "\n",
    "# Make labels by removing the directory name and .txt extension: \n",
    "labels = [filename.split('/')[1] for filename in inauguralFilenames]\n",
    "labels = [filename.split('.')[0] for filename in labels]\n",
    "\n",
    "# While we're at it, let's make a list of the lengths, so we can use them to plot dot sizes. \n",
    "lengths = [len(open(filename, errors='ignore').read())/100 for filename in inauguralFilenames]\n",
    "\n",
    "# Add a manually compiled list of presidential party affiliations, \n",
    "# So that we can use this to color our dots. \n",
    "parties = 'rrrbbrrrbbbbbrrbbrrbrrrbbrrbr'"
   ]
  },
  {
   "cell_type": "code",
   "execution_count": 77,
   "metadata": {
    "collapsed": true,
    "slideshow": {
     "slide_type": "fragment"
    }
   },
   "outputs": [],
   "source": [
    "tfidfOut = tfidf.fit_transform(inauguralFilenames)"
   ]
  },
  {
   "cell_type": "code",
   "execution_count": 78,
   "metadata": {
    "slideshow": {
     "slide_type": "fragment"
    }
   },
   "outputs": [
    {
     "data": {
      "text/plain": [
       "(29, 6177)"
      ]
     },
     "execution_count": 78,
     "metadata": {},
     "output_type": "execute_result"
    }
   ],
   "source": [
    "tfidfOut.shape"
   ]
  },
  {
   "cell_type": "code",
   "execution_count": 79,
   "metadata": {
    "collapsed": true,
    "slideshow": {
     "slide_type": "subslide"
    }
   },
   "outputs": [],
   "source": [
    "lsaOut = lsa.fit_transform(tfidfOut.todense())"
   ]
  },
  {
   "cell_type": "code",
   "execution_count": 80,
   "metadata": {
    "slideshow": {
     "slide_type": "subslide"
    }
   },
   "outputs": [
    {
     "data": {
      "image/png": "[encoded data removed]",
      "text/plain": [
       "<matplotlib.figure.Figure at 0x14d64d5f8>"
      ]
     },
     "metadata": {},
     "output_type": "display_data"
    }
   ],
   "source": [
    "xs, ys = lsaOut[:,0], lsaOut[:,1]\n",
    "for i in range(len(xs)): \n",
    "    plt.scatter(xs[i], ys[i], c=parties[i], s=lengths[i], alpha=0.5)\n",
    "    plt.annotate(labels[i], (xs[i], ys[i]))"
   ]
  },
  {
   "cell_type": "markdown",
   "metadata": {
    "slideshow": {
     "slide_type": "slide"
    }
   },
   "source": [
    "# Average Sentence Lengths\n",
    "\n",
    "Let's load the Inaugural Address documents into SpaCy to analyze things like average sentence length. SpaCy makes this really easy. "
   ]
  },
  {
   "cell_type": "code",
   "execution_count": 81,
   "metadata": {
    "collapsed": true,
    "slideshow": {
     "slide_type": "fragment"
    }
   },
   "outputs": [],
   "source": [
    "inaugural = [nlp(open(doc, errors='ignore').read()) for doc in inauguralFilenames]"
   ]
  },
  {
   "cell_type": "code",
   "execution_count": 82,
   "metadata": {
    "collapsed": true,
    "slideshow": {
     "slide_type": "fragment"
    }
   },
   "outputs": [],
   "source": [
    "sentLengths = [ np.mean([len(sent) for sent in doc.sents]) for doc in inaugural ]"
   ]
  },
  {
   "cell_type": "code",
   "execution_count": 83,
   "metadata": {
    "slideshow": {
     "slide_type": "subslide"
    }
   },
   "outputs": [
    {
     "data": {
      "text/plain": [
       "<matplotlib.axes._subplots.AxesSubplot at 0x14c976d68>"
      ]
     },
     "execution_count": 83,
     "metadata": {},
     "output_type": "execute_result"
    },
    {
     "data": {
      "image/png": "[encoded data removed]",
      "text/plain": [
       "<matplotlib.figure.Figure at 0x14d64f748>"
      ]
     },
     "metadata": {},
     "output_type": "display_data"
    }
   ],
   "source": [
    "pd.Series(sentLengths, index=labels).plot(kind='bar')"
   ]
  },
  {
   "cell_type": "markdown",
   "metadata": {
    "slideshow": {
     "slide_type": "slide"
    }
   },
   "source": [
    "# Term Frequency Distributions\n",
    "\n",
    "This sort of thing you've probably already seen in the NLTK book, but it's made even easier in SpaCy. We're simply going to count the occurrences of words and divide by the total number of words in the document. "
   ]
  },
  {
   "cell_type": "code",
   "execution_count": 84,
   "metadata": {
    "collapsed": true,
    "slideshow": {
     "slide_type": "subslide"
    }
   },
   "outputs": [],
   "source": [
    "# Create a Pandas Data Frame with each word counted in each document, \n",
    "# divided by the length of the document. \n",
    "inauguralSeries = [pd.Series(Counter(   \n",
    "                    [word.string.strip().lower() \n",
    "                     for word in doc]))/len(doc) \n",
    "                     for doc in inaugural]\n",
    "seriesDict = {label: series for label, series in zip(labels, inauguralSeries)}\n",
    "inauguralDf = pd.DataFrame(seriesDict).T.fillna(0)"
   ]
  },
  {
   "cell_type": "code",
   "execution_count": 85,
   "metadata": {
    "slideshow": {
     "slide_type": "subslide"
    }
   },
   "outputs": [
    {
     "data": {
      "text/html": [
       "<div>\n",
       "<table border=\"1\" class=\"dataframe\">\n",
       "  <thead>\n",
       "    <tr style=\"text-align: right;\">\n",
       "      <th></th>\n",
       "      <th></th>\n",
       "      <th>!</th>\n",
       "      <th>\"</th>\n",
       "      <th>$</th>\n",
       "      <th>'</th>\n",
       "      <th>'ll</th>\n",
       "      <th>'s</th>\n",
       "      <th>'ve</th>\n",
       "      <th>(</th>\n",
       "      <th>)</th>\n",
       "      <th>...</th>\n",
       "      <th>yields</th>\n",
       "      <th>you</th>\n",
       "      <th>young</th>\n",
       "      <th>youngest</th>\n",
       "      <th>your</th>\n",
       "      <th>yours</th>\n",
       "      <th>yourselfxand</th>\n",
       "      <th>yourselves</th>\n",
       "      <th>youth</th>\n",
       "      <th>zealously</th>\n",
       "    </tr>\n",
       "  </thead>\n",
       "  <tbody>\n",
       "    <tr>\n",
       "      <th>1901-McKinley</th>\n",
       "      <td>0.004872</td>\n",
       "      <td>0.000406</td>\n",
       "      <td>0.004872</td>\n",
       "      <td>0.000406</td>\n",
       "      <td>0.0</td>\n",
       "      <td>0.0</td>\n",
       "      <td>0.000406</td>\n",
       "      <td>0.0</td>\n",
       "      <td>0.0</td>\n",
       "      <td>0.0</td>\n",
       "      <td>...</td>\n",
       "      <td>0.0</td>\n",
       "      <td>0.000406</td>\n",
       "      <td>0.0</td>\n",
       "      <td>0.0</td>\n",
       "      <td>0.000000</td>\n",
       "      <td>0.0</td>\n",
       "      <td>0.0</td>\n",
       "      <td>0.0</td>\n",
       "      <td>0.0</td>\n",
       "      <td>0.0</td>\n",
       "    </tr>\n",
       "    <tr>\n",
       "      <th>1905-Roosevelt</th>\n",
       "      <td>0.003656</td>\n",
       "      <td>0.000000</td>\n",
       "      <td>0.000000</td>\n",
       "      <td>0.000000</td>\n",
       "      <td>0.0</td>\n",
       "      <td>0.0</td>\n",
       "      <td>0.000914</td>\n",
       "      <td>0.0</td>\n",
       "      <td>0.0</td>\n",
       "      <td>0.0</td>\n",
       "      <td>...</td>\n",
       "      <td>0.0</td>\n",
       "      <td>0.000000</td>\n",
       "      <td>0.0</td>\n",
       "      <td>0.0</td>\n",
       "      <td>0.000000</td>\n",
       "      <td>0.0</td>\n",
       "      <td>0.0</td>\n",
       "      <td>0.0</td>\n",
       "      <td>0.0</td>\n",
       "      <td>0.0</td>\n",
       "    </tr>\n",
       "    <tr>\n",
       "      <th>1909-Taft</th>\n",
       "      <td>0.007303</td>\n",
       "      <td>0.000000</td>\n",
       "      <td>0.000679</td>\n",
       "      <td>0.000170</td>\n",
       "      <td>0.0</td>\n",
       "      <td>0.0</td>\n",
       "      <td>0.000000</td>\n",
       "      <td>0.0</td>\n",
       "      <td>0.0</td>\n",
       "      <td>0.0</td>\n",
       "      <td>...</td>\n",
       "      <td>0.0</td>\n",
       "      <td>0.000000</td>\n",
       "      <td>0.0</td>\n",
       "      <td>0.0</td>\n",
       "      <td>0.000000</td>\n",
       "      <td>0.0</td>\n",
       "      <td>0.0</td>\n",
       "      <td>0.0</td>\n",
       "      <td>0.0</td>\n",
       "      <td>0.0</td>\n",
       "    </tr>\n",
       "    <tr>\n",
       "      <th>1913-Wilson</th>\n",
       "      <td>0.005753</td>\n",
       "      <td>0.000523</td>\n",
       "      <td>0.001046</td>\n",
       "      <td>0.000000</td>\n",
       "      <td>0.0</td>\n",
       "      <td>0.0</td>\n",
       "      <td>0.002615</td>\n",
       "      <td>0.0</td>\n",
       "      <td>0.0</td>\n",
       "      <td>0.0</td>\n",
       "      <td>...</td>\n",
       "      <td>0.0</td>\n",
       "      <td>0.000000</td>\n",
       "      <td>0.0</td>\n",
       "      <td>0.0</td>\n",
       "      <td>0.000000</td>\n",
       "      <td>0.0</td>\n",
       "      <td>0.0</td>\n",
       "      <td>0.0</td>\n",
       "      <td>0.0</td>\n",
       "      <td>0.0</td>\n",
       "    </tr>\n",
       "    <tr>\n",
       "      <th>1917-Wilson</th>\n",
       "      <td>0.010161</td>\n",
       "      <td>0.000000</td>\n",
       "      <td>0.000000</td>\n",
       "      <td>0.000000</td>\n",
       "      <td>0.0</td>\n",
       "      <td>0.0</td>\n",
       "      <td>0.001195</td>\n",
       "      <td>0.0</td>\n",
       "      <td>0.0</td>\n",
       "      <td>0.0</td>\n",
       "      <td>...</td>\n",
       "      <td>0.0</td>\n",
       "      <td>0.001195</td>\n",
       "      <td>0.0</td>\n",
       "      <td>0.0</td>\n",
       "      <td>0.003586</td>\n",
       "      <td>0.0</td>\n",
       "      <td>0.0</td>\n",
       "      <td>0.0</td>\n",
       "      <td>0.0</td>\n",
       "      <td>0.0</td>\n",
       "    </tr>\n",
       "  </tbody>\n",
       "</table>\n",
       "<p>5 rows × 6213 columns</p>\n",
       "</div>"
      ],
      "text/plain": [
       "                                 !         \"         $    '  'll        's  \\\n",
       "1901-McKinley   0.004872  0.000406  0.004872  0.000406  0.0  0.0  0.000406   \n",
       "1905-Roosevelt  0.003656  0.000000  0.000000  0.000000  0.0  0.0  0.000914   \n",
       "1909-Taft       0.007303  0.000000  0.000679  0.000170  0.0  0.0  0.000000   \n",
       "1913-Wilson     0.005753  0.000523  0.001046  0.000000  0.0  0.0  0.002615   \n",
       "1917-Wilson     0.010161  0.000000  0.000000  0.000000  0.0  0.0  0.001195   \n",
       "\n",
       "                've    (    )    ...      yields       you  young  youngest  \\\n",
       "1901-McKinley   0.0  0.0  0.0    ...         0.0  0.000406    0.0       0.0   \n",
       "1905-Roosevelt  0.0  0.0  0.0    ...         0.0  0.000000    0.0       0.0   \n",
       "1909-Taft       0.0  0.0  0.0    ...         0.0  0.000000    0.0       0.0   \n",
       "1913-Wilson     0.0  0.0  0.0    ...         0.0  0.000000    0.0       0.0   \n",
       "1917-Wilson     0.0  0.0  0.0    ...         0.0  0.001195    0.0       0.0   \n",
       "\n",
       "                    your  yours  yourselfxand  yourselves  youth  zealously  \n",
       "1901-McKinley   0.000000    0.0           0.0         0.0    0.0        0.0  \n",
       "1905-Roosevelt  0.000000    0.0           0.0         0.0    0.0        0.0  \n",
       "1909-Taft       0.000000    0.0           0.0         0.0    0.0        0.0  \n",
       "1913-Wilson     0.000000    0.0           0.0         0.0    0.0        0.0  \n",
       "1917-Wilson     0.003586    0.0           0.0         0.0    0.0        0.0  \n",
       "\n",
       "[5 rows x 6213 columns]"
      ]
     },
     "execution_count": 85,
     "metadata": {},
     "output_type": "execute_result"
    }
   ],
   "source": [
    "inauguralDf.head()"
   ]
  },
  {
   "cell_type": "markdown",
   "metadata": {
    "slideshow": {
     "slide_type": "slide"
    }
   },
   "source": [
    "<h3>We can easily slice this data frame with words we're interested in, and plot those words across the corpus. For example, let's look at the proportions of the words \"America\" and \"world\":</h3>"
   ]
  },
  {
   "cell_type": "code",
   "execution_count": 86,
   "metadata": {
    "slideshow": {
     "slide_type": "subslide"
    }
   },
   "outputs": [
    {
     "data": {
      "text/plain": [
       "<matplotlib.axes._subplots.AxesSubplot at 0x14dfd15c0>"
      ]
     },
     "execution_count": 86,
     "metadata": {},
     "output_type": "execute_result"
    },
    {
     "data": {
      "image/png": "[encoded data removed]",
      "text/plain": [
       "<matplotlib.figure.Figure at 0x14ec175c0>"
      ]
     },
     "metadata": {},
     "output_type": "display_data"
    }
   ],
   "source": [
    "inauguralDf[['world', 'america']].plot(kind='bar')"
   ]
  },
  {
   "cell_type": "markdown",
   "metadata": {
    "slideshow": {
     "slide_type": "subslide"
    }
   },
   "source": [
    "<h3>We can even compute, the ratio of uses of the word \"America\" to uses of the word \"world.\"</h3>"
   ]
  },
  {
   "cell_type": "code",
   "execution_count": 87,
   "metadata": {
    "slideshow": {
     "slide_type": "subslide"
    }
   },
   "outputs": [
    {
     "data": {
      "text/plain": [
       "<matplotlib.axes._subplots.AxesSubplot at 0x14ed825c0>"
      ]
     },
     "execution_count": 87,
     "metadata": {},
     "output_type": "execute_result"
    },
    {
     "data": {
      "image/png": "[encoded data removed]",
      "text/plain": [
       "<matplotlib.figure.Figure at 0x14ee6e9b0>"
      ]
     },
     "metadata": {},
     "output_type": "display_data"
    }
   ],
   "source": [
    "americaWorldRatio = inauguralDf['america']/inauguralDf['world']\n",
    "americaWorldRatio.plot(kind='bar')"
   ]
  },
  {
   "cell_type": "markdown",
   "metadata": {
    "slideshow": {
     "slide_type": "slide"
    }
   },
   "source": [
    "# Document Similarity Matrix\n",
    "\n",
    "Using the `.similarity()` method from earlier that uses word vectors, we can very easily compute the document similarity between all the documents in our corpus. "
   ]
  },
  {
   "cell_type": "code",
   "execution_count": 88,
   "metadata": {
    "collapsed": true,
    "slideshow": {
     "slide_type": "fragment"
    }
   },
   "outputs": [],
   "source": [
    "similarities = [ [doc.similarity(other) for other in inaugural] for doc in inaugural ]\n",
    "similaritiesDf = pd.DataFrame(similarities, columns=labels, index=labels)"
   ]
  },
  {
   "cell_type": "code",
   "execution_count": 89,
   "metadata": {
    "slideshow": {
     "slide_type": "subslide"
    }
   },
   "outputs": [
    {
     "data": {
      "text/plain": [
       "<matplotlib.axes._subplots.AxesSubplot at 0x14ef99470>"
      ]
     },
     "execution_count": 89,
     "metadata": {},
     "output_type": "execute_result"
    },
    {
     "data": {
      "image/png": "[encoded data removed]",
      "text/plain": [
       "<matplotlib.figure.Figure at 0x14d64d5f8>"
      ]
     },
     "metadata": {},
     "output_type": "display_data"
    }
   ],
   "source": [
    "# Requires the Seaborn library. \n",
    "rcParams['figure.figsize'] = 16, 8\n",
    "seaborn.heatmap(similaritiesDf)"
   ]
  }
 ],
 "metadata": {
  "celltoolbar": "Slideshow",
  "kernelspec": {
   "display_name": "Python 3",
   "language": "python",
   "name": "python3"
  },
  "language_info": {
   "codemirror_mode": {
    "name": "ipython",
    "version": 3
   },
   "file_extension": ".py",
   "mimetype": "text/x-python",
   "name": "python",
   "nbconvert_exporter": "python",
   "pygments_lexer": "ipython3",
   "version": "3.6.1"
  }
 },
 "nbformat": 4,
 "nbformat_minor": 2
}
